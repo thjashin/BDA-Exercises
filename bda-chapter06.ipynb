{
 "cells": [
  {
   "cell_type": "code",
   "execution_count": 255,
   "metadata": {
    "collapsed": true
   },
   "outputs": [],
   "source": [
    "import numpy as np\n",
    "import scipy\n",
    "from scipy import stats\n",
    "import matplotlib.pyplot as plt\n",
    "%matplotlib inline\n",
    "\n",
    "np.random.seed(1234)"
   ]
  },
  {
   "cell_type": "markdown",
   "metadata": {},
   "source": [
    "## Exercise 6.1"
   ]
  },
  {
   "cell_type": "markdown",
   "metadata": {
    "collapsed": true
   },
   "source": [
    "#### (a)\n",
    "In this example, for the pooled estimates, the posterior of $\\theta$ is\n",
    "$$\n",
    "\\theta \\sim \\mathcal{N}(7.7, 4.1^2)\n",
    "$$\n",
    "We simulate 1000 samples $\\{\\theta_s\\}_{s=1}^{1000}$ from the posterior, for each $\\theta_s$, we sample $\\{y^{rep}_{s, i}\\}_{i=1}^8$ as the replicated data and calculate the expected ordered statistics."
   ]
  },
  {
   "cell_type": "code",
   "execution_count": 256,
   "metadata": {
    "collapsed": false
   },
   "outputs": [
    {
     "name": "stdout",
     "output_type": "stream",
     "text": [
      "Mean ordered statistics of y_rep:\n",
      "[ 26.77047645  18.48883105  13.60913845   9.63114806   6.09842553\n",
      "   2.43596769  -2.56772247 -10.45314326]\n"
     ]
    }
   ],
   "source": [
    "import itertools\n",
    "theta = np.random.normal(7.7, 4.1, size=1000)\n",
    "sigma = np.array([15., 10., 16., 11., 9., 11., 10., 18.])\n",
    "y_rep = map(lambda a: np.random.normal(a[0], a[1]), itertools.product(theta, sigma))\n",
    "y_rep = np.array(y_rep).reshape((1000, 8))\n",
    "ordered_yrep = np.sort(y_rep, axis=1)[:, ::-1]\n",
    "print 'Mean ordered statistics of y_rep:'\n",
    "print ordered_yrep.mean(axis=0)"
   ]
  },
  {
   "cell_type": "markdown",
   "metadata": {},
   "source": [
    "We can see that the mean ordered statistics are near the expected ordered statistics given. Then we calculate the posterior p-value using the replicated data."
   ]
  },
  {
   "cell_type": "code",
   "execution_count": 257,
   "metadata": {
    "collapsed": false,
    "scrolled": true
   },
   "outputs": [
    {
     "name": "stdout",
     "output_type": "stream",
     "text": [
      "Posterior predictive p-value for ordered statistics:\n",
      "[ 0.409  0.521  0.609  0.616  0.444  0.579  0.417  0.236]\n"
     ]
    }
   ],
   "source": [
    "y = np.array([28., 18., 12., 8., 7., 1., -1., -3.])\n",
    "pv = (ordered_yrep > y).sum(axis=0) * 1. / ordered_yrep.shape[0]\n",
    "print 'Posterior predictive p-value for ordered statistics:'\n",
    "print pv"
   ]
  },
  {
   "cell_type": "markdown",
   "metadata": {},
   "source": [
    "None of the p-values are extreme, so the model fits the data here."
   ]
  },
  {
   "cell_type": "markdown",
   "metadata": {},
   "source": [
    "#### (b)\n",
    "Because its hypothesis that all coaching effects are the same in all schools prevent people from further analysis like, for example, why the effects are so good in school A rather than school C."
   ]
  },
  {
   "cell_type": "markdown",
   "metadata": {},
   "source": [
    "## Exercise 6.2"
   ]
  },
  {
   "cell_type": "markdown",
   "metadata": {},
   "source": [
    "#### (a, b)\n",
    "##### Model 1\n",
    "Let $y$ denote the number of fatal accidents. We put noninformative prior on $\\theta$\n",
    "$$\n",
    "\\begin{aligned}\n",
    "p(\\theta) &\\propto \\frac{1}{\\theta} \\propto \\mathrm{Gamma}(0, 0) \\\\\n",
    "y_{1:n} &\\sim \\mathrm{Poisson}(\\theta)\n",
    "\\end{aligned}\n",
    "$$\n",
    "$$\n",
    "p(\\theta|y) = \\mathrm{Gamma}(\\sum_{i=1}^n y_i, n)\n",
    "$$"
   ]
  },
  {
   "cell_type": "code",
   "execution_count": 258,
   "metadata": {
    "collapsed": false
   },
   "outputs": [
    {
     "name": "stdout",
     "output_type": "stream",
     "text": [
      "Posterior: Gamma(238, 10)\n"
     ]
    }
   ],
   "source": [
    "y = np.array([24, 25, 31, 31, 22, 21, 26, 20, 16, 22], dtype='float')\n",
    "print 'Posterior: Gamma(%d, %d)' % (y.sum(), y.shape[0])"
   ]
  },
  {
   "cell_type": "markdown",
   "metadata": {},
   "source": [
    "We use the following test quantity to test if there is some trend over time.\n",
    "$$\n",
    "T(y) = \\sum_{i=1}^{n-1} (y_i - y_{i-1})\n",
    "$$"
   ]
  },
  {
   "cell_type": "code",
   "execution_count": 259,
   "metadata": {
    "collapsed": false
   },
   "outputs": [
    {
     "data": {
      "image/png": "[encoded data removed]",
      "text/plain": [
       "<matplotlib.figure.Figure at 0x7fe1fdc7f210>"
      ]
     },
     "metadata": {},
     "output_type": "display_data"
    }
   ],
   "source": [
    "theta = np.random.gamma(y.sum(), 1./y.shape[0], size=1000)\n",
    "y_rep = np.array(map(lambda a: np.random.poisson(a, size=y.shape[0]), theta))\n",
    "y_rep_t = np.mean((y_rep[:, 1:] - y_rep[:, :-1]), axis=1)\n",
    "y_t = np.mean((y[1:] - y[:-1]))\n",
    "plt.hist(y_rep_t, bins=20)\n",
    "plt.vlines(y_t, 0, 200, color='r')\n",
    "_ = plt.ylim([0, 200])"
   ]
  },
  {
   "cell_type": "code",
   "execution_count": 260,
   "metadata": {
    "collapsed": false
   },
   "outputs": [
    {
     "name": "stdout",
     "output_type": "stream",
     "text": [
      "Posterior predictive p-value: 0.556\n"
     ]
    }
   ],
   "source": [
    "print 'Posterior predictive p-value:', (\n",
    "    y_rep_t > y_t).sum(axis=0) * 1. / y_rep_t.shape[0]"
   ]
  },
  {
   "cell_type": "markdown",
   "metadata": {},
   "source": [
    "##### Model 2\n",
    "Let $x$ denote the number of passenger miles flown.\n",
    "$$\n",
    "\\begin{aligned}\n",
    "p(\\theta) &\\propto \\frac{1}{\\theta} \\propto \\mathrm{Gamma}(0, 0) \\\\\n",
    "y_i &\\sim \\mathrm{Poisson}(\\theta x_i),\\;i=1,2,\\dots,n\n",
    "\\end{aligned}\n",
    "$$\n",
    "$$\n",
    "p(\\theta|y) = \\mathrm{Gamma}(\\sum_{i=1}^n y_i, \\sum_{i=1}^n x_i)\n",
    "$$"
   ]
  },
  {
   "cell_type": "code",
   "execution_count": 261,
   "metadata": {
    "collapsed": false
   },
   "outputs": [
    {
     "name": "stdout",
     "output_type": "stream",
     "text": [
      "Number of passenger miles flown each year:\n",
      "[  3.86315789e+11   4.30000000e+11   5.02666667e+11   5.48125000e+11\n",
      "   5.81428571e+11   6.03333333e+11   5.87692308e+11   6.22307692e+11\n",
      "   7.43333333e+11   7.10666667e+11]\n"
     ]
    }
   ],
   "source": [
    "death = np.array([734, 516, 754, 877, 814, 362, 764, 809, 223, 1066], dtype='float')\n",
    "death_rate = np.array([.19, .12, .15, .16, .14, .06, .13, .13, .03, .15], dtype='float')\n",
    "x = death / death_rate * 1e8\n",
    "print 'Number of passenger miles flown each year:'\n",
    "print x"
   ]
  },
  {
   "cell_type": "code",
   "execution_count": 262,
   "metadata": {
    "collapsed": false
   },
   "outputs": [
    {
     "name": "stdout",
     "output_type": "stream",
     "text": [
      "Posterior: Gamma(238, 5.7158693609e+12)\n"
     ]
    }
   ],
   "source": [
    "print 'Posterior: Gamma(%d, %s)' % (y.sum(), x.sum())"
   ]
  },
  {
   "cell_type": "code",
   "execution_count": 263,
   "metadata": {
    "collapsed": false
   },
   "outputs": [
    {
     "data": {
      "image/png": "[encoded data removed]",
      "text/plain": [
       "<matplotlib.figure.Figure at 0x7fe1fd6e5590>"
      ]
     },
     "metadata": {},
     "output_type": "display_data"
    }
   ],
   "source": [
    "theta = np.random.gamma(y.sum(), 1./x.sum(), size=1000)\n",
    "y_rep = np.array(map(lambda a: np.random.poisson(a[0]*a[1]),\n",
    "                     itertools.product(theta, x)))\n",
    "y_rep = y_rep.reshape((1000, -1))\n",
    "y_rep_t = np.mean((y_rep[:, 1:] - y_rep[:, :-1]), axis=1)\n",
    "y_t = np.mean((y[1:] - y[:-1]))\n",
    "fig = plt.figure()\n",
    "plt.hist(y_rep_t, bins=20)\n",
    "plt.vlines(y_t, 0, 200, color='r')\n",
    "_ = plt.ylim([0, 200])"
   ]
  },
  {
   "cell_type": "code",
   "execution_count": 264,
   "metadata": {
    "collapsed": false
   },
   "outputs": [
    {
     "name": "stdout",
     "output_type": "stream",
     "text": [
      "Posterior predictive p-value: 0.989\n"
     ]
    }
   ],
   "source": [
    "print 'Posterior predictive p-value:', (\n",
    "    y_rep_t > y_t).sum(axis=0) * 1. / y_rep_t.shape[0]"
   ]
  },
  {
   "cell_type": "markdown",
   "metadata": {},
   "source": [
    "##### Model 3\n",
    "Let $z$ denote the number of passenger deaths.\n",
    "$$\n",
    "\\begin{aligned}\n",
    "p(\\theta) &\\propto \\frac{1}{\\theta} \\propto \\mathrm{Gamma}(0, 0) \\\\\n",
    "z_{1:n} &\\sim \\mathrm{Poisson}(\\theta)\n",
    "\\end{aligned}\n",
    "$$\n",
    "$$\n",
    "p(\\theta|z) = \\mathrm{Gamma}(\\sum_{i=1}^n z_i, n)\n",
    "$$"
   ]
  },
  {
   "cell_type": "code",
   "execution_count": 265,
   "metadata": {
    "collapsed": false
   },
   "outputs": [
    {
     "name": "stdout",
     "output_type": "stream",
     "text": [
      "Posterior: Gamma(6919, 10)\n"
     ]
    }
   ],
   "source": [
    "print 'Posterior: Gamma(%d, %d)' % (death.sum(), death.shape[0])"
   ]
  },
  {
   "cell_type": "code",
   "execution_count": 266,
   "metadata": {
    "collapsed": false
   },
   "outputs": [
    {
     "data": {
      "image/png": "[encoded data removed]",
      "text/plain": [
       "<matplotlib.figure.Figure at 0x7fe1fdacf450>"
      ]
     },
     "metadata": {},
     "output_type": "display_data"
    }
   ],
   "source": [
    "theta = np.random.gamma(death.sum(), 1./death.shape[0], size=1000)\n",
    "z_rep = np.array(map(lambda a: np.random.poisson(a, size=death.shape[0]), theta))\n",
    "z_rep_t = np.mean((z_rep[:, 1:] - z_rep[:, :-1]), axis=1)\n",
    "z_t = np.mean((death[1:] - death[:-1]))\n",
    "plt.hist(z_rep_t, bins=20)\n",
    "plt.vlines(z_t, 0, 160, color='r')\n",
    "_ = plt.ylim([0, 160])"
   ]
  },
  {
   "cell_type": "code",
   "execution_count": 267,
   "metadata": {
    "collapsed": false
   },
   "outputs": [
    {
     "name": "stdout",
     "output_type": "stream",
     "text": [
      "Posterior predictive p-value: 0.0\n"
     ]
    }
   ],
   "source": [
    "print 'Posterior predictive p-value:', (\n",
    "    z_rep_t > z_t).sum(axis=0) * 1. / z_rep_t.shape[0]"
   ]
  },
  {
   "cell_type": "markdown",
   "metadata": {},
   "source": [
    "##### Model 4\n",
    "Let $z$ denote the number of passenger miles flown.\n",
    "$$\n",
    "\\begin{aligned}\n",
    "p(\\theta) &\\propto \\frac{1}{\\theta} \\propto \\mathrm{Gamma}(0, 0) \\\\\n",
    "z &\\sim \\mathrm{Poisson}(\\theta x_i),\\;i=1,2,\\dots,n\n",
    "\\end{aligned}\n",
    "$$\n",
    "$$\n",
    "p(\\theta|z) = \\mathrm{Gamma}(\\sum_{i=1}^n z_i, \\sum_{i=1}^n x_i)\n",
    "$$"
   ]
  },
  {
   "cell_type": "code",
   "execution_count": 268,
   "metadata": {
    "collapsed": false
   },
   "outputs": [
    {
     "name": "stdout",
     "output_type": "stream",
     "text": [
      "Posterior: Gamma(6919, 5.7158693609e+12)\n"
     ]
    }
   ],
   "source": [
    "print 'Posterior: Gamma(%d, %s)' % (death.sum(), x.sum())"
   ]
  },
  {
   "cell_type": "code",
   "execution_count": 269,
   "metadata": {
    "collapsed": false
   },
   "outputs": [
    {
     "data": {
      "image/png": "[encoded data removed]",
      "text/plain": [
       "<matplotlib.figure.Figure at 0x7fe1fdabbe50>"
      ]
     },
     "metadata": {},
     "output_type": "display_data"
    }
   ],
   "source": [
    "theta = np.random.gamma(death.sum(), 1./x.sum(), size=1000)\n",
    "z_rep = np.array(map(lambda a: np.random.poisson(a[0]*a[1]),\n",
    "                     itertools.product(theta, x)))\n",
    "z_rep = z_rep.reshape((1000, -1))\n",
    "z_rep_t = np.mean((z_rep[:, 1:] - z_rep[:, :-1]), axis=1)\n",
    "z_t = np.mean((death[1:] - death[:-1]))\n",
    "plt.hist(z_rep_t, bins=20)\n",
    "plt.vlines(z_t, 0, 160, color='r')\n",
    "_ = plt.ylim([0, 160])"
   ]
  },
  {
   "cell_type": "code",
   "execution_count": 270,
   "metadata": {
    "collapsed": false
   },
   "outputs": [
    {
     "name": "stdout",
     "output_type": "stream",
     "text": [
      "Posterior predictive p-value: 0.94\n"
     ]
    }
   ],
   "source": [
    "print 'Posterior predictive p-value:', (\n",
    "    z_rep_t > z_t).sum(axis=0) * 1. / z_rep_t.shape[0]"
   ]
  },
  {
   "cell_type": "markdown",
   "metadata": {},
   "source": [
    "## Exercise 6.3"
   ]
  },
  {
   "cell_type": "markdown",
   "metadata": {
    "collapsed": true
   },
   "source": [
    "#### (a)\n",
    "According to the Exercise 6.2, we can see that the independent poisson model is good at modeling the number of fatal accidents, but failed to do well on the number of passenger deaths. So we propose a new model as follows:\n",
    "\n",
    "Let $y$ denote the number of fatal accidents, $z_{i}$ denote the **average** number of passenger deaths of each accident in year $i$, and $x$ denote the number of passenger miles flown.\n",
    "$$\n",
    "\\begin{aligned}\n",
    "p(\\theta) &\\propto \\frac{1}{\\theta} \\propto \\mathrm{Gamma}(0, 0) \\\\\n",
    "y_i &\\sim \\mathrm{Poisson}(\\theta)\\quad i=1,\\dots,n \\\\\n",
    "p(\\alpha) &\\propto \\frac{1}{\\alpha} \\propto \\mathrm{Gamma}(0, 0) \\\\\n",
    "z_i &\\sim \\mathrm{Poisson}(\\alpha x_i) \\\\\n",
    "\\end{aligned}\n",
    "$$\n",
    "So the passenger deaths number given in the data is $y_iz_i$ in this model."
   ]
  },
  {
   "cell_type": "markdown",
   "metadata": {},
   "source": [
    "#### (b)\n",
    "$$\n",
    "p(\\theta|y) = \\mathrm{Gamma}(\\sum_{i=1}^n y_i, n)\n",
    "$$\n",
    "$$\n",
    "p(\\alpha|z) = \\mathrm{Gamma}(\\sum_{i=1}^n z_i, \\sum_{i=1}^n x_i)\n",
    "$$\n",
    "The inference of $y$ does not change."
   ]
  },
  {
   "cell_type": "code",
   "execution_count": 271,
   "metadata": {
    "collapsed": false
   },
   "outputs": [
    {
     "name": "stdout",
     "output_type": "stream",
     "text": [
      "Posterior of theta: Gamma(238, 10)\n"
     ]
    }
   ],
   "source": [
    "y = np.array([24, 25, 31, 31, 22, 21, 26, 20, 16, 22], dtype='float')\n",
    "print 'Posterior of theta: Gamma(%d, %d)' % (y.sum(), y.shape[0])"
   ]
  },
  {
   "cell_type": "code",
   "execution_count": 272,
   "metadata": {
    "collapsed": false
   },
   "outputs": [
    {
     "name": "stdout",
     "output_type": "stream",
     "text": [
      "z: [ 30.58333333  20.64        24.32258065  28.29032258  37.          17.23809524\n",
      "  29.38461538  40.45        13.9375      48.45454545]\n"
     ]
    }
   ],
   "source": [
    "death = np.array([734, 516, 754, 877, 814, 362, 764, 809, 223, 1066], dtype='float')\n",
    "death_rate = np.array([.19, .12, .15, .16, .14, .06, .13, .13, .03, .15], dtype='float')\n",
    "x = death / death_rate * 1e8\n",
    "z = death * 1. / y\n",
    "print 'z:', z"
   ]
  },
  {
   "cell_type": "code",
   "execution_count": 273,
   "metadata": {
    "collapsed": false
   },
   "outputs": [
    {
     "name": "stdout",
     "output_type": "stream",
     "text": [
      "Posterior of alpha: Gamma(290, 5.7158693609e+12)\n"
     ]
    }
   ],
   "source": [
    "print 'Posterior of alpha: Gamma(%d, %s)' % (z.sum(), x.sum())"
   ]
  },
  {
   "cell_type": "markdown",
   "metadata": {},
   "source": [
    "#### (c)\n",
    "We simulate 1000 samples of theta and alpha from the posterior to forecast the airline fatalities."
   ]
  },
  {
   "cell_type": "markdown",
   "metadata": {},
   "source": [
    "##### Prediction of Accidents"
   ]
  },
  {
   "cell_type": "code",
   "execution_count": 274,
   "metadata": {
    "collapsed": false
   },
   "outputs": [
    {
     "name": "stdout",
     "output_type": "stream",
     "text": [
      "95% predictive interval: [14, 34]\n"
     ]
    },
    {
     "data": {
      "image/png": "[encoded data removed]",
      "text/plain": [
       "<matplotlib.figure.Figure at 0x7fe1fdd42710>"
      ]
     },
     "metadata": {},
     "output_type": "display_data"
    }
   ],
   "source": [
    "theta = np.random.gamma(y.sum(), 1./y.shape[0], size=1000)\n",
    "y_new = np.array(map(lambda a: np.random.poisson(a), theta))\n",
    "_ = plt.hist(y_new, bins=20)\n",
    "y_new.sort()\n",
    "print '95% predictive interval:', [y_new[25], y_new[975]]"
   ]
  },
  {
   "cell_type": "markdown",
   "metadata": {},
   "source": [
    "##### Prediction of Deaths"
   ]
  },
  {
   "cell_type": "code",
   "execution_count": 275,
   "metadata": {
    "collapsed": false
   },
   "outputs": [
    {
     "name": "stdout",
     "output_type": "stream",
     "text": [
      "95% predictive interval: [512, 1584]\n"
     ]
    },
    {
     "data": {
      "image/png": "[encoded data removed]",
      "text/plain": [
       "<matplotlib.figure.Figure at 0x7fe1fdb59e50>"
      ]
     },
     "metadata": {},
     "output_type": "display_data"
    }
   ],
   "source": [
    "alpha = np.random.gamma(z.sum(), 1./x.sum(), size=1000)\n",
    "x_new = 8e11\n",
    "z_new = np.array(map(lambda a: np.random.poisson(a*x_new), alpha))\n",
    "death = z_new * y_new\n",
    "_ = plt.hist(death, bins=20)\n",
    "death.sort()\n",
    "print '95% predictive interval:', [death[25], death[975]]"
   ]
  },
  {
   "cell_type": "markdown",
   "metadata": {},
   "source": [
    "##### Predictions of Deaths by old model\n",
    "The predictive interval given by old model 4 is"
   ]
  },
  {
   "cell_type": "code",
   "execution_count": 276,
   "metadata": {
    "collapsed": false
   },
   "outputs": [
    {
     "name": "stdout",
     "output_type": "stream",
     "text": [
      "95% predictive interval: [908, 1036]\n"
     ]
    },
    {
     "data": {
      "image/png": "[encoded data removed]",
      "text/plain": [
       "<matplotlib.figure.Figure at 0x7fe1fdbf12d0>"
      ]
     },
     "metadata": {},
     "output_type": "display_data"
    }
   ],
   "source": [
    "death = np.array([734, 516, 754, 877, 814, 362, 764, 809, 223, 1066], dtype='float')\n",
    "theta = np.random.gamma(death.sum(), 1./x.sum(), size=1000)\n",
    "x_new = 8e11\n",
    "death = np.array(map(lambda a: np.random.poisson(a*x_new), theta))\n",
    "_ = plt.hist(death, bins=20)\n",
    "death.sort()\n",
    "print '95% predictive interval:', [death[25], death[975]]"
   ]
  },
  {
   "cell_type": "markdown",
   "metadata": {},
   "source": [
    "We can see our new model significantly outperforms the old model by **including the correct prediction** of the number of deaths (546) in the 95% predictive interval."
   ]
  },
  {
   "cell_type": "markdown",
   "metadata": {},
   "source": [
    "#### (d)"
   ]
  },
  {
   "cell_type": "code",
   "execution_count": 277,
   "metadata": {
    "collapsed": false
   },
   "outputs": [
    {
     "data": {
      "image/png": "[encoded data removed]",
      "text/plain": [
       "<matplotlib.figure.Figure at 0x7fe1fd85fe90>"
      ]
     },
     "metadata": {},
     "output_type": "display_data"
    }
   ],
   "source": [
    "alpha = np.random.gamma(z.sum(), 1./x.sum(), size=1000)\n",
    "z_rep = np.array(map(lambda a: np.random.poisson(a[0]*a[1]),\n",
    "                     itertools.product(alpha, x)))\n",
    "z_rep = z_rep.reshape((1000, -1))\n",
    "z_rep = z_rep*y\n",
    "z_rep_t = np.mean((z_rep[:, 1:] - z_rep[:, :-1]), axis=1)\n",
    "z_t = np.mean((death[1:] - death[:-1]))\n",
    "plt.hist(z_rep_t, bins=20)\n",
    "plt.vlines(z_t, 0, 160, color='r')\n",
    "_ = plt.ylim([0, 160])"
   ]
  },
  {
   "cell_type": "code",
   "execution_count": 278,
   "metadata": {
    "collapsed": false
   },
   "outputs": [
    {
     "name": "stdout",
     "output_type": "stream",
     "text": [
      "Posterior predictive p-value: 0.972\n"
     ]
    }
   ],
   "source": [
    "print 'Posterior predictive p-value:', (\n",
    "    z_rep_t > z_t).sum(axis=0) * 1. / z_rep_t.shape[0]"
   ]
  },
  {
   "cell_type": "markdown",
   "metadata": {},
   "source": [
    "The new model does not fit better **in terms of** the test quantity of modeling time trend. In fact, we only design it better in modeling group behaviour of the deaths."
   ]
  }
 ],
 "metadata": {
  "kernelspec": {
   "display_name": "Python 2",
   "language": "python",
   "name": "python2"
  },
  "language_info": {
   "codemirror_mode": {
    "name": "ipython",
    "version": 2
   },
   "file_extension": ".py",
   "mimetype": "text/x-python",
   "name": "python",
   "nbconvert_exporter": "python",
   "pygments_lexer": "ipython2",
   "version": "2.7.11+"
  }
 },
 "nbformat": 4,
 "nbformat_minor": 0
}
