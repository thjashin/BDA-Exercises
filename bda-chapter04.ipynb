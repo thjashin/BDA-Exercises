{
 "cells": [
  {
   "cell_type": "code",
   "execution_count": 1,
   "metadata": {
    "collapsed": true
   },
   "outputs": [],
   "source": [
    "import numpy as np\n",
    "import scipy\n",
    "from scipy import stats\n",
    "import matplotlib.pyplot as plt\n",
    "%matplotlib inline\n",
    "\n",
    "np.random.seed(1234)"
   ]
  },
  {
   "cell_type": "markdown",
   "metadata": {
    "collapsed": true
   },
   "source": [
    "## Exercise 4.1"
   ]
  },
  {
   "cell_type": "markdown",
   "metadata": {},
   "source": [
    "#### (a)\n",
    "$$\n",
    "p(y_i|\\theta) \\propto \\frac{1}{1 + (y_i - \\theta)^2}\n",
    "$$\n",
    "$$\n",
    "\\begin{aligned}\n",
    "p(\\theta|y) &\\propto p(\\theta)\\prod_{i=1}^5p(y_i|\\theta) \\\\\n",
    "&= \\prod_{i=1}^5 \\frac{1}{1 + (y_i - \\theta)^2}\n",
    "\\end{aligned}\n",
    "$$\n",
    "$$\n",
    "\\log p(\\theta|y) = c - \\sum_{i=1}^5\\log[1 + (y_i - \\theta)^2]\n",
    "$$\n",
    "$$\n",
    "\\frac{\\partial\\log p(\\theta|y)}{\\partial\\theta} = \\sum_{i=1}^5 \\frac{2(y_i - \\theta)}{1 + (y_i - \\theta)^2}\n",
    "$$\n",
    "$$\n",
    "\\frac{\\partial^2\\log p(\\theta|y)}{\\partial \\theta^2} = \\sum_{i=1}^5 \\frac{2(y_i - \\theta)^2 - 2}{[1 + (y_i-\\theta)^2]^2}\n",
    "$$"
   ]
  },
  {
   "cell_type": "markdown",
   "metadata": {},
   "source": [
    "#### (b)"
   ]
  },
  {
   "cell_type": "code",
   "execution_count": 2,
   "metadata": {
    "collapsed": false
   },
   "outputs": [
    {
     "name": "stdout",
     "output_type": "stream",
     "text": [
      "Mode of theta: -0.137649277989\n"
     ]
    }
   ],
   "source": [
    "from scipy import optimize\n",
    "y = np.array([-2, -1, 0, 1.5, 2.5])\n",
    "def first_derivative(theta):\n",
    "    return np.sum(2*(y - theta) / (1 + (y - theta)**2))\n",
    "ret = optimize.root(first_derivative, 0.)\n",
    "print 'Mode of theta:', ret['x'][0]"
   ]
  },
  {
   "cell_type": "markdown",
   "metadata": {},
   "source": [
    "#### (c)"
   ]
  },
  {
   "cell_type": "code",
   "execution_count": 3,
   "metadata": {
    "collapsed": false
   },
   "outputs": [
    {
     "name": "stdout",
     "output_type": "stream",
     "text": [
      "Normal approximation: N(-0.137649277989, 0.727330913208)\n"
     ]
    }
   ],
   "source": [
    "theta = ret['x'][0]\n",
    "second_deriv = np.sum((2*(y - theta)**2 - 2) / (1 + (y - theta)**2)**2)\n",
    "sigma = 1.0 / np.sqrt(-second_deriv)\n",
    "print 'Normal approximation: N(%s, %s)' % (theta, sigma**2)"
   ]
  },
  {
   "cell_type": "markdown",
   "metadata": {},
   "source": [
    "## Exercise 4.2"
   ]
  },
  {
   "cell_type": "markdown",
   "metadata": {
    "collapsed": true
   },
   "source": [
    "$$\n",
    "\\log p(y|\\alpha, \\beta, n, x) = \\sum_{i=1}^n y_i(\\alpha + \\beta x_i) - n_i\\log[1 + e^{\\alpha + \\beta x_i}]\n",
    "$$\n",
    "$$\n",
    "\\frac{\\partial\\log p(y|\\alpha,\\beta,n,x)}{\\partial\\alpha} = \\sum_{i=1}^n \\left[-n_i \\frac{e^{\\alpha+\\beta x_i}}{1 + e^{\\alpha + \\beta x_i}} + y_i\\right]\n",
    "$$\n",
    "$$\n",
    "\\frac{\\partial\\log p(y|\\alpha,\\beta,n,x)}{\\partial\\beta} = \\sum_{i=1}^n \\left[-n_i \\frac{x_ie^{\\alpha + \\beta x_i}}{1 + e^{\\alpha + \\beta x_i}} + y_ix_i\\right]\n",
    "$$\n",
    "$$\n",
    "\\frac{\\partial^2\\log p(y|\\dots)}{\\partial \\alpha^2} = \\sum_{i=1}^n -n_i\\frac{e^{\\alpha + \\beta x_i}}{(1 + e^{\\alpha + \\beta x_i})^2}\n",
    "$$\n",
    "$$\n",
    "\\frac{\\partial^2\\log p(y|\\dots)}{\\partial \\alpha\\beta} = \\sum_{i=1}^n -n_ix_i\\frac{e^{\\alpha + \\beta x_i}}{(1 + e^{\\alpha + \\beta x_i})^2}\n",
    "$$\n",
    "$$\n",
    "\\frac{\\partial^2\\log p(y|\\dots)}{\\partial \\beta^2} = \\sum_{i=1}^n -n_ix_i^2\\frac{e^{\\alpha + \\beta x_i}}{(1 + e^{\\alpha + \\beta x_i})^2}\n",
    "$$\n",
    "So the information matrix is\n",
    "$$\n",
    "I(\\hat{\\theta}) = -\\begin{pmatrix}\n",
    "\\frac{\\partial^2\\log p(y|\\dots)}{\\partial \\alpha^2} & \\frac{\\partial^2\\log p(y|\\dots)}{\\partial \\alpha\\beta}\\\\\n",
    "\\frac{\\partial^2\\log p(y|\\dots)}{\\partial \\alpha\\beta} & \\frac{\\partial^2\\log p(y|\\dots)}{\\partial \\beta^2}\n",
    "\\end{pmatrix}\n",
    "$$\n",
    "Variance of Normal\n",
    "$$\n",
    "\\Sigma = I(\\hat{\\theta})^{-1}\n",
    "$$"
   ]
  },
  {
   "cell_type": "markdown",
   "metadata": {},
   "source": [
    "## Exercise 4.4"
   ]
  },
  {
   "cell_type": "markdown",
   "metadata": {},
   "source": [
    "When $n\\to \\infty$,\n",
    "$$\n",
    "\\phi = f(\\theta) = f(\\hat{\\theta}) + f'(\\hat{\\theta})(\\theta - \\hat{\\theta}) + o((\\theta - \\hat{\\theta})^2)\n",
    "$$\n",
    "can be seen as a linear transformation. The normal density stays normal under linear transformation."
   ]
  },
  {
   "cell_type": "markdown",
   "metadata": {},
   "source": [
    "## Exercise 4.5"
   ]
  },
  {
   "cell_type": "markdown",
   "metadata": {},
   "source": [
    "#### (a)"
   ]
  },
  {
   "cell_type": "code",
   "execution_count": 4,
   "metadata": {
    "collapsed": false
   },
   "outputs": [
    {
     "name": "stdout",
     "output_type": "stream",
     "text": [
      "Mean of y/x: 0.827995487297\n",
      "Standard deviation of y/x: 0.627124666732\n"
     ]
    }
   ],
   "source": [
    "x = np.random.normal(4., 1., size=1000)\n",
    "y = np.random.normal(3., 2., size=1000)\n",
    "y_over_x = y / x\n",
    "print 'Mean of y/x:', y_over_x.mean()\n",
    "print 'Standard deviation of y/x:', np.sqrt(y_over_x.var())"
   ]
  },
  {
   "cell_type": "markdown",
   "metadata": {},
   "source": [
    "#### (b)\n",
    "Let $f(x,y)=\\frac{y}{x}$, According to Taylor expansion at $(\\mathbb{E}(x), \\mathbb{E}(y))$, that is (4, 3)\n",
    "$$\n",
    "\\frac{y}{x} = \\frac{3}{4} + \\begin{pmatrix}f_y'(4, 3)\\\\f_x'(4, 3)\\end{pmatrix}^T\\left[\\begin{pmatrix}y\\\\x\\end{pmatrix} - \\begin{pmatrix}3\\\\4\\end{pmatrix}\\right] = \\frac{3}{4} + \\frac{1}{4}(x - 4) - \\frac{3}{16}(y - 3)\n",
    "$$"
   ]
  },
  {
   "cell_type": "markdown",
   "metadata": {},
   "source": [
    "so\n",
    "$$\n",
    "\\mathbb{E}\\left[\\frac{y}{x}\\right] = \\frac{3}{4} = 0.75\n",
    "$$\n",
    "$$\n",
    "\\mathrm{Var}\\left[\\frac{y}{x}\\right] = \\frac{9}{256}\\mathrm{Var}[x] + \\frac{1}{16}\\mathrm{Var}[y]\n",
    "$$"
   ]
  },
  {
   "cell_type": "code",
   "execution_count": 5,
   "metadata": {
    "collapsed": false
   },
   "outputs": [
    {
     "name": "stdout",
     "output_type": "stream",
     "text": [
      "Standard deviation of y/x: 0.534000234082\n"
     ]
    }
   ],
   "source": [
    "print 'Standard deviation of y/x:', np.sqrt(1./16*4 + 9./256*1)"
   ]
  },
  {
   "cell_type": "markdown",
   "metadata": {},
   "source": [
    "#### (c)\n",
    "The accuracy should require the probability mass of $y$ and $x$ stay near their expectation."
   ]
  }
 ],
 "metadata": {
  "kernelspec": {
   "display_name": "Python 2",
   "language": "python",
   "name": "python2"
  },
  "language_info": {
   "codemirror_mode": {
    "name": "ipython",
    "version": 2
   },
   "file_extension": ".py",
   "mimetype": "text/x-python",
   "name": "python",
   "nbconvert_exporter": "python",
   "pygments_lexer": "ipython2",
   "version": "2.7.11+"
  }
 },
 "nbformat": 4,
 "nbformat_minor": 0
}
