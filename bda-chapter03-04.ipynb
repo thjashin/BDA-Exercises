{
 "cells": [
  {
   "cell_type": "code",
   "execution_count": 65,
   "metadata": {
    "collapsed": true
   },
   "outputs": [],
   "source": [
    "import numpy as np\n",
    "import scipy\n",
    "from scipy import stats\n",
    "import matplotlib.pyplot as plt\n",
    "%matplotlib inline\n",
    "\n",
    "np.random.seed(1234)"
   ]
  },
  {
   "cell_type": "markdown",
   "metadata": {},
   "source": [
    "## Exercise 3.3"
   ]
  },
  {
   "cell_type": "markdown",
   "metadata": {
    "collapsed": true
   },
   "source": [
    "$$\n",
    "n_c = 32,\\;\\bar{y}_c = 1.013,\\;s_c = 0.24\n",
    "$$\n",
    "$$\n",
    "n_t = 36,\\;\\bar{y}_t = 1.173,\\;s_t = 0.20\n",
    "$$"
   ]
  },
  {
   "cell_type": "markdown",
   "metadata": {},
   "source": [
    "##### (a)\n",
    "According to the Gaussian model with unknown mean and variance (with uniform prior on $\\mu$, $\\log \\sigma^2$)\n",
    "$$\n",
    "p(\\mu_c|y) = t_{n_c-1}(\\bar{y}_c, \\frac{s_c^2}{n}) = t_{31}(1.013, 0.0018)\n",
    "$$\n",
    "$$\n",
    "p(\\mu_t|y) = t_{n_c-1}(\\bar{y}_t, \\frac{s_t^2}{n}) = t_{35}(1.173, 0.0011)\n",
    "$$"
   ]
  },
  {
   "cell_type": "markdown",
   "metadata": {},
   "source": [
    "##### (b)"
   ]
  },
  {
   "cell_type": "code",
   "execution_count": 66,
   "metadata": {
    "collapsed": false
   },
   "outputs": [
    {
     "data": {
      "image/png": "[encoded data removed]",
      "text/plain": [
       "<matplotlib.figure.Figure at 0x7f862c330150>"
      ]
     },
     "metadata": {},
     "output_type": "display_data"
    }
   ],
   "source": [
    "mu_c = np.random.standard_t(31, size=1000) * (0.24 / 32**0.5) + 1.013\n",
    "mu_t = np.random.standard_t(35, size=1000) * (0.2 / 36**0.5) + 1.173\n",
    "samples = mu_t - mu_c\n",
    "_ = plt.hist(samples, bins=20)"
   ]
  },
  {
   "cell_type": "code",
   "execution_count": 67,
   "metadata": {
    "collapsed": false
   },
   "outputs": [
    {
     "name": "stdout",
     "output_type": "stream",
     "text": [
      "Approximate 95% posterior interval: [0.054761480604240242, 0.26171725375286792]\n"
     ]
    }
   ],
   "source": [
    "samples.sort()\n",
    "n = samples.shape[0]\n",
    "print 'Approximate 95% posterior interval:', [samples[int(0.025*n)], samples[int(0.975*n)]]"
   ]
  },
  {
   "cell_type": "markdown",
   "metadata": {},
   "source": [
    "## Exercise 3.4"
   ]
  },
  {
   "cell_type": "markdown",
   "metadata": {},
   "source": [
    "$$\n",
    "n_0 = 674,\\;y_0 = 39\n",
    "$$\n",
    "$$\n",
    "n_1 = 680,\\;y_1 = 22\n",
    "$$"
   ]
  },
  {
   "cell_type": "markdown",
   "metadata": {},
   "source": [
    "##### (a)\n",
    "The likelihood is binomial:\n",
    "$$\n",
    "p(y|p) \\propto p^y(1 - p)^{n - y}\n",
    "$$\n",
    "We can put an uniform prior\n",
    "$$\n",
    "p(p) \\propto 1\n",
    "$$\n",
    "Then the posterior is Beta:\n",
    "$$\n",
    "p(p|y) \\propto p(p)p(y|p) = p^y(1 - p)^{n - y} \\propto Beta(y + 1, n - y + 1)\n",
    "$$"
   ]
  },
  {
   "cell_type": "code",
   "execution_count": 68,
   "metadata": {
    "collapsed": false
   },
   "outputs": [
    {
     "data": {
      "image/png": "[encoded data removed]",
      "text/plain": [
       "<matplotlib.figure.Figure at 0x7f862c16bf90>"
      ]
     },
     "metadata": {},
     "output_type": "display_data"
    }
   ],
   "source": [
    "p0_samples = np.random.beta(39 + 1, 674 - 39 + 1, size=1000)\n",
    "p1_samples = np.random.beta(22 + 1, 680 - 22 + 1, size=1000)\n",
    "_ = plt.hist2d(p0_samples, p1_samples, bins=20)\n",
    "_ = plt.xlabel('$p_0$')\n",
    "_ = plt.ylabel('$p_1$')"
   ]
  },
  {
   "cell_type": "markdown",
   "metadata": {},
   "source": [
    "##### (b)"
   ]
  },
  {
   "cell_type": "code",
   "execution_count": 69,
   "metadata": {
    "collapsed": false
   },
   "outputs": [
    {
     "data": {
      "image/png": "[encoded data removed]",
      "text/plain": [
       "<matplotlib.figure.Figure at 0x7f862c011050>"
      ]
     },
     "metadata": {},
     "output_type": "display_data"
    }
   ],
   "source": [
    "odds_ratio = (p1_samples / (1 - p1_samples)) / (p0_samples / (1 - p0_samples))\n",
    "_ = plt.hist(odds_ratio, bins=20)"
   ]
  },
  {
   "cell_type": "code",
   "execution_count": 70,
   "metadata": {
    "collapsed": false
   },
   "outputs": [
    {
     "name": "stdout",
     "output_type": "stream",
     "text": [
      "Posterior mean: 0.56321756494\n",
      "Approximate 95% posterior interval: [0.32079529096825454, 0.90958108919138903]\n"
     ]
    }
   ],
   "source": [
    "odds_ratio.sort()\n",
    "n = odds_ratio.shape[0]\n",
    "print 'Posterior mean:', odds_ratio.mean()\n",
    "print 'Approximate 95% posterior interval:', [odds_ratio[int(0.025*n)], odds_ratio[int(0.975*n)]]"
   ]
  },
  {
   "cell_type": "markdown",
   "metadata": {},
   "source": [
    "##### (c)\n",
    "If we change to Beta prior\n",
    "$$\n",
    "p(p) = Beta(a, a)\n",
    "$$\n",
    "Then the posterior is:\n",
    "$$\n",
    "p(p|y) \\propto p(p)p(y|p) = p^{a - 1}(1 - p)^{a - 1}p^y(1 - p)^{n - y} \\propto Beta(a + y, a + n - y)\n",
    "$$\n",
    "* When $a = 1$, it's the same prior as we choose in (a).\n",
    "* When $a = \\frac{1}{2}$, it's the Jeffery's noninformative prior.\n",
    "\n",
    "It can be seen that when n is large enough, the value of $a$ doesn't change the posterior distribution very much."
   ]
  },
  {
   "cell_type": "markdown",
   "metadata": {},
   "source": [
    "## Exercise 3.7"
   ]
  },
  {
   "cell_type": "markdown",
   "metadata": {},
   "source": [
    "In the first model\n",
    "$$\n",
    "\\begin{aligned}\n",
    "p(b) &= \\frac{\\theta_b^b}{b!}e^{-\\theta_b} \\\\\n",
    "p(v) &= \\frac{\\theta_v^v}{v!}e^{-\\theta_v} \\\\\n",
    "p(b|v+b) &= \\frac{p(v+b|b)p(b)}{p(v+b)} \\\\\n",
    "&= \\frac{p(v)p(b)}{p(v+b)} \\\\\n",
    "&= \\frac{\\frac{\\theta_b^b}{b!}e^{-\\theta_b}\\cdot \\frac{\\theta_v^v}{v!}e^{-\\theta_v}}{\\frac{(\\theta_v + \\theta_b)^{b+v}}{(b+v)!}e^{-(\\theta_b + \\theta_v)}} \\\\\n",
    "&= {b+v \\choose b}\\left(\\frac{\\theta_b}{\\theta_b+\\theta_v}\\right)^b\\left(1 - \\frac{\\theta_b}{\\theta_b+\\theta_v}\\right)^v \\\\\n",
    "&= B(b|b+v, p)\n",
    "\\end{aligned}\n",
    "$$\n",
    "In the second model\n",
    "$$\n",
    "p(b|v+b) = B(b|b+v, p)\n",
    "$$"
   ]
  },
  {
   "cell_type": "markdown",
   "metadata": {},
   "source": [
    "## Exercise 3.9"
   ]
  },
  {
   "cell_type": "markdown",
   "metadata": {},
   "source": [
    "$$\n",
    "\\begin{aligned}\n",
    "\\mu, \\sigma^2 &\\sim \\text{N-Inv-}\\chi^2(\\mu_0, \\sigma_0^2/\\kappa_0; v_0, \\sigma_0^2) \\\\\n",
    "y_{1:n} &\\sim \\mathcal{N}(\\mu, \\sigma^2)\n",
    "\\end{aligned}\n",
    "$$\n",
    "The posterior:\n",
    "$$\n",
    "\\begin{aligned}\n",
    "p(\\mu, \\sigma^2) &\\propto p(\\mu, \\sigma^2)\\prod_{i=1}^n p(y_i|\\mu, \\sigma^2) \\\\\n",
    "&= \\sigma^{-1}(\\sigma^2)^{-v_0/2 + 1}\\exp\\left(-\\frac{1}{2\\sigma^2}[v_0\\sigma_0^2 + \\kappa_0(\\mu - \\mu_0)^2\\right)\\cdot (\\sigma^2)^{-n/2}\\exp\\left(-\\frac{1}{2\\sigma^2}[(n-1)s^2 + n(\\bar{y} - \\mu)^2]\\right) \\\\\n",
    "&= \\sigma^{-1}(\\sigma^2)^{-(v_0 + n)/2 + 1}\\exp\\left(-\\frac{1}{2\\sigma^2}[v_0\\sigma_0^2 + (n-1)s^2 + \\kappa_0(\\mu - \\mu_0)^2 + n(\\bar{y} - \\mu)^2]\\right) \\\\\n",
    "&= \\sigma^{-1}(\\sigma^2)^{-(v_0 + n)/2 + 1}\\exp\\left(-\\frac{1}{2\\sigma^2}[(\\kappa_0 + n)\\mu^2 - 2(\\kappa_0\\mu_0 + n\\bar{y})\\mu + \\kappa_0\\mu_0^2 + n\\bar{y}^2 + v_0\\sigma_0^2 + (n-1)s^2]\\right) \\\\\n",
    "&= \\sigma^{-1}(\\sigma^2)^{-(v_0 + n)/2 + 1}\\exp\\left(-\\frac{1}{2\\sigma^2}[(\\kappa_0 + n)(\\mu - \\frac{\\kappa_0\\mu_0 + n\\bar{y}}{\\kappa_0 + n})^2 + \\frac{n\\kappa_0}{\\kappa_0 + n}(\\mu_0 - \\bar{y})^2 + v_0\\sigma_0^2 + (n-1)s^2]\\right) \\\\\n",
    "&\\propto \\text{N-Inv-}\\chi^2(\\mu_n, \\sigma_n^2/\\kappa_n; v_n, \\sigma_n^2)\n",
    "\\end{aligned}\n",
    "$$\n",
    "where\n",
    "$$\n",
    "\\begin{aligned}\n",
    "\\mu_n &= \\frac{\\kappa_0\\mu_0 + n\\bar{y}}{\\kappa_0 + n} \\\\\n",
    "\\kappa_n &= \\kappa_0 + n \\\\\n",
    "v_n &= v_0 + n \\\\\n",
    "v_n\\sigma_n^2 &= \\frac{n\\kappa_0}{\\kappa_0 + n}(\\mu_0 - \\bar{y})^2 + v_0\\sigma_0^2 + (n-1)s^2\n",
    "\\end{aligned}\n",
    "$$"
   ]
  },
  {
   "cell_type": "markdown",
   "metadata": {},
   "source": [
    "## Exercise 3.11"
   ]
  },
  {
   "cell_type": "markdown",
   "metadata": {},
   "source": [
    "##### (a)"
   ]
  },
  {
   "cell_type": "code",
   "execution_count": 71,
   "metadata": {
    "collapsed": false,
    "scrolled": true
   },
   "outputs": [
    {
     "data": {
      "image/png": "[encoded data removed]",
      "text/plain": [
       "<matplotlib.figure.Figure at 0x7f862be66f10>"
      ]
     },
     "metadata": {},
     "output_type": "display_data"
    }
   ],
   "source": [
    "x = np.array([-0.86, -0.3, -0.05, 0.73])\n",
    "n = np.array([5, 5, 5, 5])\n",
    "y = np.array([0, 1, 3, 5])\n",
    "mu = np.array([0, 10])\n",
    "sigma = np.array([[4, 10], [10, 100]])\n",
    "\n",
    "def joint(ab, normal_prior=True):\n",
    "    alpha = ab[:, 0]\n",
    "    beta = ab[:, 1]\n",
    "    theta = 1./(1. + np.exp(-(alpha.reshape((1, -1)) + \\\n",
    "                              beta.reshape((1, -1))*x.reshape((-1, 1)))))\n",
    "    likelihood = theta**y.reshape((-1, 1)) * (1. - theta)**(n - y).reshape((-1, 1))\n",
    "    joint = np.prod(likelihood, axis=0)\n",
    "    if normal_prior:\n",
    "        joint = stats.multivariate_normal.pdf(ab, mu, sigma)*joint\n",
    "    return joint\n",
    "\n",
    "def plot_isocontours(func, xlimits=[1, 6], ylimits=[-4, 8],\n",
    "                     numticks=1000, colors=None):\n",
    "    xi = np.linspace(*xlimits, num=numticks)\n",
    "    yi = np.linspace(*ylimits, num=numticks)\n",
    "    X, Y = np.meshgrid(xi, yi)\n",
    "    zs = func(np.concatenate([np.atleast_2d(X.ravel()),\n",
    "                              np.atleast_2d(Y.ravel())]).T)\n",
    "    Z = zs.reshape(X.shape)\n",
    "    plt.contour(X, Y, Z, colors=colors)\n",
    "\n",
    "plot_isocontours(joint, [-5, 8], [-10, 30], 100)"
   ]
  },
  {
   "cell_type": "code",
   "execution_count": 72,
   "metadata": {
    "collapsed": false
   },
   "outputs": [
    {
     "data": {
      "image/png": "[encoded data removed]",
      "text/plain": [
       "<matplotlib.figure.Figure at 0x7f862c0b8310>"
      ]
     },
     "metadata": {},
     "output_type": "display_data"
    }
   ],
   "source": [
    "xi = np.arange(-5, 8, 0.1)\n",
    "yi = np.arange(-10, 30, 0.1)\n",
    "X, Y = np.meshgrid(xi, yi)\n",
    "zs = joint(np.concatenate([np.atleast_2d(X.ravel()),\n",
    "                           np.atleast_2d(Y.ravel())]).T)\n",
    "Z = zs.reshape(X.shape)\n",
    "Z = Z / (Z.sum() * 0.1**2)\n",
    "alphaZ = Z.sum(axis=0)\n",
    "alphaZ = alphaZ / alphaZ.sum()\n",
    "alphas = np.random.choice(xi, size=1000, p=alphaZ)\n",
    "alpha_ind = ((alphas + 5.) / 0.1).astype('int')\n",
    "betas = np.array([np.random.choice(yi, p=(Z[:, ind] / Z[:, ind].sum())) for ind in alpha_ind])\n",
    "alphas = np.random.uniform(-0.05, 0.05, size=1000) + alphas\n",
    "betas = np.random.uniform(-0.05, 0.05, size=1000) + betas\n",
    "plt.scatter(alphas, betas, s=10, marker='.')\n",
    "plt.xlim([-5, 8])\n",
    "_ = plt.ylim([-10, 30])"
   ]
  },
  {
   "cell_type": "markdown",
   "metadata": {},
   "source": [
    "##### (b)"
   ]
  },
  {
   "cell_type": "code",
   "execution_count": 73,
   "metadata": {
    "collapsed": false,
    "scrolled": true
   },
   "outputs": [
    {
     "data": {
      "image/png": "[encoded data removed]",
      "text/plain": [
       "<matplotlib.figure.Figure at 0x7f862c0d5490>"
      ]
     },
     "metadata": {},
     "output_type": "display_data"
    }
   ],
   "source": [
    "plot_isocontours(joint, [-5, 8], [-10, 30], 100, colors='r')\n",
    "plot_isocontours(lambda x: joint(x, False), [-5, 8], [-10, 30], 100, colors='pink')\n",
    "plot_isocontours(lambda x: stats.multivariate_normal.pdf(x, mu, sigma),\n",
    "                 [-5, 8], [-10, 30], 100, colors='y')"
   ]
  },
  {
   "cell_type": "markdown",
   "metadata": {},
   "source": [
    "We can see that the red joint is a compromise of the yellow prior and pink data likelihoods."
   ]
  },
  {
   "cell_type": "markdown",
   "metadata": {},
   "source": [
    "##### (c)\n",
    "The prior doesn't change the posterior mode much but reduces the uncertainty in the positive area."
   ]
  },
  {
   "cell_type": "markdown",
   "metadata": {
    "collapsed": true
   },
   "source": [
    "## Exercise 4.1"
   ]
  },
  {
   "cell_type": "markdown",
   "metadata": {},
   "source": [
    "#### (a)\n",
    "$$\n",
    "p(y_i|\\theta) \\propto \\frac{1}{1 + (y_i - \\theta)^2}\n",
    "$$\n",
    "$$\n",
    "\\begin{aligned}\n",
    "p(\\theta|y) &\\propto p(\\theta)\\prod_{i=1}^5p(y_i|\\theta) \\\\\n",
    "&= \\prod_{i=1}^5 \\frac{1}{1 + (y_i - \\theta)^2}\n",
    "\\end{aligned}\n",
    "$$\n",
    "$$\n",
    "\\log p(\\theta|y) = c - \\sum_{i=1}^5\\log[1 + (y_i - \\theta)^2]\n",
    "$$\n",
    "$$\n",
    "\\frac{\\partial\\log p(\\theta|y)}{\\partial\\theta} = \\sum_{i=1}^5 \\frac{2(y_i - \\theta)}{1 + (y_i - \\theta)^2}\n",
    "$$\n",
    "$$\n",
    "\\frac{\\partial^2\\log p(\\theta|y)}{\\partial \\theta^2} = \\sum_{i=1}^5 \\frac{2(y_i - \\theta)^2 - 2}{[1 + (y_i-\\theta)^2]^2}\n",
    "$$"
   ]
  },
  {
   "cell_type": "markdown",
   "metadata": {},
   "source": [
    "#### (b)"
   ]
  },
  {
   "cell_type": "code",
   "execution_count": 74,
   "metadata": {
    "collapsed": false
   },
   "outputs": [
    {
     "name": "stdout",
     "output_type": "stream",
     "text": [
      "Mode of theta: -0.137649277989\n"
     ]
    }
   ],
   "source": [
    "from scipy import optimize\n",
    "y = np.array([-2, -1, 0, 1.5, 2.5])\n",
    "def first_derivative(theta):\n",
    "    return np.sum(2*(y - theta) / (1 + (y - theta)**2))\n",
    "ret = optimize.root(first_derivative, 0.)\n",
    "print 'Mode of theta:', ret['x'][0]"
   ]
  },
  {
   "cell_type": "markdown",
   "metadata": {},
   "source": [
    "#### (c)"
   ]
  },
  {
   "cell_type": "code",
   "execution_count": 77,
   "metadata": {
    "collapsed": false
   },
   "outputs": [
    {
     "name": "stdout",
     "output_type": "stream",
     "text": [
      "Normal approximation: N(-0.137649277989, 0.727330913208)\n"
     ]
    }
   ],
   "source": [
    "theta = ret['x'][0]\n",
    "second_deriv = np.sum((2*(y - theta)**2 - 2) / (1 + (y - theta)**2)**2)\n",
    "sigma = 1.0 / np.sqrt(-second_deriv)\n",
    "print 'Normal approximation: N(%s, %s)' % (theta, sigma**2)"
   ]
  },
  {
   "cell_type": "markdown",
   "metadata": {},
   "source": [
    "## Exercise 4.2"
   ]
  },
  {
   "cell_type": "markdown",
   "metadata": {
    "collapsed": true
   },
   "source": [
    "$$\n",
    "\\log p(y|\\alpha, \\beta, n, x) = \\sum_{i=1}^n y_i(\\alpha + \\beta x_i) - n_i\\log[1 + e^{\\alpha + \\beta x_i}]\n",
    "$$\n",
    "$$\n",
    "\\frac{\\partial\\log p(y|\\alpha,\\beta,n,x)}{\\partial\\alpha} = \\sum_{i=1}^n \\left[-n_i \\frac{e^{\\alpha+\\beta x_i}}{1 + e^{\\alpha + \\beta x_i}} + y_i\\right]\n",
    "$$\n",
    "$$\n",
    "\\frac{\\partial\\log p(y|\\alpha,\\beta,n,x)}{\\partial\\beta} = \\sum_{i=1}^n \\left[-n_i \\frac{x_ie^{\\alpha + \\beta x_i}}{1 + e^{\\alpha + \\beta x_i}} + y_ix_i\\right]\n",
    "$$\n",
    "$$\n",
    "\\frac{\\partial^2\\log p(y|\\dots)}{\\partial \\alpha^2} = \\sum_{i=1}^n -n_i\\frac{e^{\\alpha + \\beta x_i}}{(1 + e^{\\alpha + \\beta x_i})^2}\n",
    "$$\n",
    "$$\n",
    "\\frac{\\partial^2\\log p(y|\\dots)}{\\partial \\alpha\\beta} = \\sum_{i=1}^n -n_ix_i\\frac{e^{\\alpha + \\beta x_i}}{(1 + e^{\\alpha + \\beta x_i})^2}\n",
    "$$\n",
    "$$\n",
    "\\frac{\\partial^2\\log p(y|\\dots)}{\\partial \\beta^2} = \\sum_{i=1}^n -n_ix_i^2\\frac{e^{\\alpha + \\beta x_i}}{(1 + e^{\\alpha + \\beta x_i})^2}\n",
    "$$\n",
    "So the information matrix is\n",
    "$$\n",
    "I(\\hat{\\theta}) = -\\begin{pmatrix}\n",
    "\\frac{\\partial^2\\log p(y|\\dots)}{\\partial \\alpha^2} & \\frac{\\partial^2\\log p(y|\\dots)}{\\partial \\alpha\\beta}\\\\\n",
    "\\frac{\\partial^2\\log p(y|\\dots)}{\\partial \\alpha\\beta} & \\frac{\\partial^2\\log p(y|\\dots)}{\\partial \\beta^2}\n",
    "\\end{pmatrix}\n",
    "$$\n",
    "Variance of Normal\n",
    "$$\n",
    "\\Sigma = I(\\hat{\\theta})^{-1}\n",
    "$$"
   ]
  }
 ],
 "metadata": {
  "kernelspec": {
   "display_name": "Python 2",
   "language": "python",
   "name": "python2"
  },
  "language_info": {
   "codemirror_mode": {
    "name": "ipython",
    "version": 2
   },
   "file_extension": ".py",
   "mimetype": "text/x-python",
   "name": "python",
   "nbconvert_exporter": "python",
   "pygments_lexer": "ipython2",
   "version": "2.7.11+"
  }
 },
 "nbformat": 4,
 "nbformat_minor": 0
}
