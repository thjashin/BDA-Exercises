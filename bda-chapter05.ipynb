{
 "cells": [
  {
   "cell_type": "code",
   "execution_count": 1,
   "metadata": {
    "collapsed": true
   },
   "outputs": [],
   "source": [
    "import numpy as np\n",
    "import scipy\n",
    "from scipy import stats\n",
    "import matplotlib.pyplot as plt\n",
    "%matplotlib inline\n",
    "\n",
    "np.random.seed(1234)"
   ]
  },
  {
   "cell_type": "markdown",
   "metadata": {},
   "source": [
    "## Exercise 5.1"
   ]
  },
  {
   "cell_type": "markdown",
   "metadata": {},
   "source": [
    "#### (a)\n",
    "1. Exchangeable.\n",
    "2. Independent.\n",
    "3. Yes."
   ]
  },
  {
   "cell_type": "markdown",
   "metadata": {},
   "source": [
    "#### (b)\n",
    "1. Exchangeable.\n",
    "2. Not independent.\n",
    "3. No."
   ]
  },
  {
   "cell_type": "markdown",
   "metadata": {},
   "source": [
    "#### (c)\n",
    "1. Exchangeable.\n",
    "2. Not independent.\n",
    "3. Yes."
   ]
  },
  {
   "cell_type": "markdown",
   "metadata": {},
   "source": [
    "## Exercise 5.2"
   ]
  },
  {
   "cell_type": "markdown",
   "metadata": {},
   "source": [
    "#### (a)\n",
    "1. Exchangeable.\n",
    "2. Not independent. (From a Bayesian point of view, the ratio between black and white is not known, thus a random variable, which causes the two experiments to be dependent.)\n",
    "3. No."
   ]
  },
  {
   "cell_type": "markdown",
   "metadata": {},
   "source": [
    "#### (b)\n",
    "1. Exchangeable.\n",
    "2. Not independent.\n",
    "3. No."
   ]
  },
  {
   "cell_type": "markdown",
   "metadata": {},
   "source": [
    "#### (c)\n",
    "1. Exchangeable.\n",
    "2. Not independent.\n",
    "3. Yes"
   ]
  },
  {
   "cell_type": "markdown",
   "metadata": {},
   "source": [
    "## Exercise 5.5"
   ]
  },
  {
   "cell_type": "markdown",
   "metadata": {},
   "source": [
    "#### Proof:\n",
    "$$\n",
    "\\begin{aligned}\n",
    "\\mathrm{cov}(\\theta_i, \\theta_j) &= \\mathbb{E}[\\theta_i\\theta_j] - \\mathbb{E}[\\theta_i]\\mathbb{E}\\mathbb[\\theta_j] \\\\\n",
    "&= \\mathbb{E}\\Big[\\mathbb{E}[\\theta_i\\theta_j|\\phi]\\Big] - \\mathbb{E}\\Big[\\mathbb{E}[\\theta_i|\\phi]\\Big]\\mathbb{E}\\Big[\\mathbb{E}[\\theta_j|\\phi]\\Big]\n",
    "\\end{aligned}\n",
    "$$\n",
    "Because $\\theta_i$, $\\theta_j$ conditioned on $\\phi$ are i.i.d,\n",
    "let $\\mathbb{E}[\\theta_i|\\phi] = \\mathbb{E}[\\theta_j|\\phi] = f(\\phi)$,\n",
    "$$\n",
    "\\mathbb{E}[\\theta_i\\theta_j|\\phi] = \\mathbb{E}[\\theta_i|\\phi]\\mathbb{E}[\\theta_j|\\phi] = f(\\phi)^2\n",
    "$$\n",
    "Therefore\n",
    "$$\n",
    "\\mathrm{cov}(\\theta_i, \\theta_j) = \\mathbb{E}[f(\\phi)^2] - \\mathbb{E}[f(\\phi)]^2\n",
    "$$\n",
    "And $x^2$ is convex, according to Jessen's inequality:\n",
    "$$\n",
    "\\mathbb{E}[f(\\phi)^2] \\geq \\mathbb{E}[f(\\phi)]^2\n",
    "$$\n",
    "So\n",
    "$$\n",
    "\\mathrm{cov}(\\theta_i, \\theta_j) \\geq 0\n",
    "$$"
   ]
  },
  {
   "cell_type": "markdown",
   "metadata": {},
   "source": [
    "## Exercise 5.11"
   ]
  },
  {
   "cell_type": "markdown",
   "metadata": {},
   "source": [
    "#### (a)\n",
    "$$\n",
    "\\begin{aligned}\n",
    "p(\\theta, \\mu, \\tau|y) &\\propto p(\\mu, \\tau)\\prod_{j=1}^J p(\\theta_j|\\mu, \\tau)p(y_j|\\theta_j) \\\\\n",
    "&= p(\\mu, \\tau)\\prod_{j=1}^J p(\\mathrm{logit}(\\theta_j)|\\mu, \\tau)\\frac{1}{\\theta_j(1 - \\theta_j)}p(y_j|\\theta_j) \\\\\n",
    "&\\propto p(\\mu, \\tau)\\prod_{j=1}^J \\tau^{-1}\\exp\\left[-\\frac{(\\mathrm{logit(\\theta_j)} - \\mu)^2}{2\\tau^2}\\right]\\frac{\\theta_j^{y_j-1}(n_j - \\theta_j)^{n_j - y_j}}{1 - \\theta_j}\n",
    "\\end{aligned}\n",
    "$$"
   ]
  },
  {
   "cell_type": "markdown",
   "metadata": {},
   "source": [
    "#### (b)\n",
    "$$\n",
    "p(\\mu, \\tau|y) = \\int p(\\theta,\\mu,\\tau|y)\\;d\\theta\n",
    "$$\n",
    "where the $\\theta_j$s cannot be integrated out in a closed form."
   ]
  },
  {
   "cell_type": "markdown",
   "metadata": {},
   "source": [
    "#### (c)\n",
    "$$\n",
    "p(\\mu, \\tau|y) = \\frac{p(\\theta, \\mu, \\tau|y)}{p(\\theta|\\mu, \\tau, y)}\n",
    "$$\n",
    "However, we cannot get the closed form of the normalizer of $p(\\theta|\\mu, \\tau, y)$, which contains $\\mu, \\tau$ and cannot be ignored."
   ]
  }
 ],
 "metadata": {
  "kernelspec": {
   "display_name": "Python 2",
   "language": "python",
   "name": "python2"
  },
  "language_info": {
   "codemirror_mode": {
    "name": "ipython",
    "version": 2
   },
   "file_extension": ".py",
   "mimetype": "text/x-python",
   "name": "python",
   "nbconvert_exporter": "python",
   "pygments_lexer": "ipython2",
   "version": "2.7.11+"
  }
 },
 "nbformat": 4,
 "nbformat_minor": 0
}
