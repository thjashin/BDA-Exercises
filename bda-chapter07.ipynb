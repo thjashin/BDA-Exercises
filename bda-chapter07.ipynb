{
 "cells": [
  {
   "cell_type": "code",
   "execution_count": 2,
   "metadata": {
    "collapsed": false
   },
   "outputs": [],
   "source": [
    "import numpy as np\n",
    "import scipy\n",
    "from scipy import stats\n",
    "import matplotlib.pyplot as plt\n",
    "%matplotlib inline\n",
    "\n",
    "np.random.seed(1234)"
   ]
  },
  {
   "cell_type": "markdown",
   "metadata": {},
   "source": [
    "## Exercise 7.1"
   ]
  },
  {
   "cell_type": "markdown",
   "metadata": {},
   "source": [
    "We first generate 1000 samples from the posterior of the bioassay example."
   ]
  },
  {
   "cell_type": "code",
   "execution_count": 162,
   "metadata": {
    "collapsed": false
   },
   "outputs": [
    {
     "data": {
      "image/png": "[encoded data removed]",
      "text/plain": [
       "<matplotlib.figure.Figure at 0x7fc7755cc4d0>"
      ]
     },
     "metadata": {},
     "output_type": "display_data"
    }
   ],
   "source": [
    "data_x = np.array([-0.86, -0.3, -0.05, 0.73])\n",
    "data_n = np.array([5, 5, 5, 5])\n",
    "data_y = np.array([0, 1, 3, 5])\n",
    "mu = np.array([0, 10])\n",
    "sigma = np.array([[4, 10], [10, 100]])\n",
    "\n",
    "def joint(ab, normal_prior=True):\n",
    "    alpha = ab[:, 0]\n",
    "    beta = ab[:, 1]\n",
    "    theta = 1./(1. + np.exp(-(alpha.reshape((1, -1)) + \\\n",
    "                              beta.reshape((1, -1))*x.reshape((-1, 1)))))\n",
    "    likelihood = theta**y.reshape((-1, 1)) * (1. - theta)**(n - y).reshape((-1, 1))\n",
    "    joint = np.prod(likelihood, axis=0)\n",
    "    if normal_prior:\n",
    "        joint = stats.multivariate_normal.pdf(ab, mu, sigma)*joint\n",
    "    return joint\n",
    "\n",
    "def posterior(x, n, y):\n",
    "    xi = np.arange(-5, 8, 0.1)\n",
    "    yi = np.arange(-10, 30, 0.1)\n",
    "    X, Y = np.meshgrid(xi, yi)\n",
    "    zs = joint(np.concatenate([np.atleast_2d(X.ravel()),\n",
    "                               np.atleast_2d(Y.ravel())]).T, normal_prior=False)\n",
    "    Z = zs.reshape(X.shape)\n",
    "    Z = Z / (Z.sum() * 0.1**2)\n",
    "    alphaZ = Z.sum(axis=0)\n",
    "    alphaZ = alphaZ / alphaZ.sum()\n",
    "    alphas = np.random.choice(xi, size=1000, p=alphaZ)\n",
    "    alpha_ind = ((alphas + 5.) / 0.1).astype('int')\n",
    "    betas = np.array([np.random.choice(yi, p=(Z[:, ind] / Z[:, ind].sum())) for ind in alpha_ind])\n",
    "    alphas = np.random.uniform(-0.05, 0.05, size=1000) + alphas\n",
    "    betas = np.random.uniform(-0.05, 0.05, size=1000) + betas\n",
    "    return alphas, betas\n",
    "\n",
    "alphas, betas = posterior(data_x, data_n, data_y)\n",
    "plt.scatter(alphas, betas, s=10, marker='.')\n",
    "plt.xlim([-5, 10])\n",
    "_ = plt.ylim([-10, 40])"
   ]
  },
  {
   "cell_type": "markdown",
   "metadata": {},
   "source": [
    "##### AIC\n",
    "The MLE estimate of $(\\alpha,\\beta)$ is $(0.8, 7.7)$.\n",
    "$$\n",
    "\\mathrm{AIC} = -2\\log p(y|\\hat{\\alpha}_{\\mathrm{mle}}, \\hat{\\beta}_{\\mathrm{mle}}) + 2k\n",
    "$$"
   ]
  },
  {
   "cell_type": "code",
   "execution_count": 163,
   "metadata": {
    "collapsed": false
   },
   "outputs": [
    {
     "name": "stdout",
     "output_type": "stream",
     "text": [
      "elpd_AIC: -3.98398718949\n",
      "AIC: 7.96797437898\n"
     ]
    }
   ],
   "source": [
    "from scipy.misc import comb\n",
    "alpha = 0.8\n",
    "beta = 7.7\n",
    "theta = 1. / (1. + np.exp(-alpha - beta*x))\n",
    "log_likelihood = np.log(comb(n, y)) + y*np.log(theta) + (n - y)*np.log(1 - theta)\n",
    "aic = -2*log_likelihood.sum() + 2*2\n",
    "print 'elpd_AIC:', log_likelihood.sum() - 2\n",
    "print 'AIC:', aic"
   ]
  },
  {
   "cell_type": "markdown",
   "metadata": {},
   "source": [
    "##### DIC\n",
    "$$\n",
    "p_{\\mathrm{DIC}} = 2\\left(\\log p(y|\\hat{\\alpha}_{\\mathrm{Bayes}}, \\hat{\\beta}_{\\mathrm{Bayes}}) - \\mathbb{E}_{\\mathrm{post}}\\log p(y|\\alpha, \\beta)\\right)\n",
    "$$\n",
    "$$\n",
    "\\mathrm{\\mathrm{DIC}} = -2\\log p(y|\\hat{\\alpha}_{\\mathrm{Bayes}}, \\hat{\\beta}_{\\mathrm{Bayes}}) + 2p_{\\mathrm{DIC}}\n",
    "$$"
   ]
  },
  {
   "cell_type": "code",
   "execution_count": 164,
   "metadata": {
    "collapsed": false
   },
   "outputs": [
    {
     "name": "stdout",
     "output_type": "stream",
     "text": [
      "elpd_DIC: -4.04326006506\n",
      "DIC: 8.08652013012\n"
     ]
    }
   ],
   "source": [
    "theta = 1. / (1. + np.exp(-alphas.mean() - betas.mean()*x))\n",
    "term1 = np.log(comb(n, y)) + y*np.log(theta) + (n - y)*np.log(1 - theta)\n",
    "term1 = term1.sum()\n",
    "theta = 1. / (1. + np.exp(-alphas.reshape((1, -1)) - \\\n",
    "                          betas.reshape((1, -1))*x.reshape((-1, 1))))\n",
    "term2 = np.log(comb(n, y)).reshape((-1, 1)) + y.reshape((-1, 1))*np.log(theta) + \\\n",
    "    ((n - y)).reshape((-1, 1))*np.log(1 - theta)\n",
    "term2 = (term2.sum(axis=0)).mean()\n",
    "pdic = 2*(term1 - term2)\n",
    "dic = -2*term1 + 2*pdic\n",
    "print 'elpd_DIC:', term1 - pdic\n",
    "print 'DIC:', dic"
   ]
  },
  {
   "cell_type": "markdown",
   "metadata": {},
   "source": [
    "##### WAIC\n",
    "$$\n",
    "p_{\\mathrm{WAIC1}} = 2\\sum_{i=1}^n \\left(\\log(\\mathbb{E}_{\\mathrm{post}}p(y_i|\\alpha, \\beta)) - \\mathbb{E}_{\\mathrm{post}}\\log p(y_i|\\alpha, \\beta)\\right)\n",
    "$$\n",
    "$$\n",
    "p_{\\mathrm{WAIC2}} = \\sum_{i=1}^n \\mathrm{var}_{\\mathrm{post}}(\\log p(y_i|\\alpha, \\beta))\n",
    "$$\n",
    "$$\n",
    "\\mathrm{WAIC} = -2\\sum_{i=1}^n \\log \\mathbb{E}_{\\mathrm{post}} p(y_i|\\alpha,\\beta) + 2p_{\\mathrm{WAIC}}\n",
    "$$"
   ]
  },
  {
   "cell_type": "code",
   "execution_count": 165,
   "metadata": {
    "collapsed": false
   },
   "outputs": [
    {
     "name": "stdout",
     "output_type": "stream",
     "text": [
      "elpd_WAIC1: -3.43514091731\n",
      "WAIC1: 6.87028183462\n",
      "elpd_WAIC2: -3.85580360372\n",
      "WAIC2: 7.71160720744\n"
     ]
    }
   ],
   "source": [
    "theta = 1. / (1. + np.exp(-alphas.reshape((1, -1)) - \\\n",
    "                          betas.reshape((1, -1))*x.reshape((-1, 1))))\n",
    "ll = np.log(comb(n, y)).reshape((-1, 1)) + y.reshape((-1, 1))*np.log(theta) + \\\n",
    "    ((n - y)).reshape((-1, 1))*np.log(1 - theta)\n",
    "def logmeanexp(z, axis=0):\n",
    "    z_max = z.max(axis=axis, keepdims=True)\n",
    "    return np.log(np.mean(np.exp(z - z_max), axis=axis)) + z_max.mean(axis=axis)\n",
    "lppd = logmeanexp(ll, axis=1).sum()\n",
    "term1 = lppd\n",
    "term2 = ll.mean(axis=1).sum()\n",
    "pwaic1 = 2*(term1 - term2)\n",
    "waic1 = -2*term1 + 2*pwaic1\n",
    "print 'elpd_WAIC1:', term1 - pwaic1\n",
    "print 'WAIC1:', waic1\n",
    "pwaic2 = ll.var(axis=1).sum()\n",
    "waic2 = -2*term1 + 2*pwaic2\n",
    "print 'elpd_WAIC2:', term1 - pwaic2\n",
    "print 'WAIC2:', waic2"
   ]
  },
  {
   "cell_type": "markdown",
   "metadata": {},
   "source": [
    "##### cross-validation\n",
    "Because the data size is small, we should use the bias correction here."
   ]
  },
  {
   "cell_type": "code",
   "execution_count": 166,
   "metadata": {
    "collapsed": false,
    "scrolled": true
   },
   "outputs": [
    {
     "name": "stdout",
     "output_type": "stream",
     "text": [
      "lppd_cloo_cv: -3.44686663141\n",
      "LOO-CV: 6.89373326283\n"
     ]
    }
   ],
   "source": [
    "lls = []\n",
    "lppds = []\n",
    "for i in xrange(x.shape[0]):\n",
    "    _x = np.hstack((x[:i], x[(i+1):]))\n",
    "    _n = np.hstack((n[:i], n[(i+1):]))\n",
    "    _y = np.hstack((y[:i], y[(i+1):]))\n",
    "    alphas, betas = posterior(_x, _n, _y)\n",
    "    theta = 1. / (1. + np.exp(-alphas - betas*x[i]))\n",
    "    ll = np.log(comb(n[i], y[i])) + y[i]*np.log(theta) + \\\n",
    "        (n[i] - y[i])*np.log(1 - theta)\n",
    "    theta = 1. / (1. + np.exp(-alphas.reshape((1, -1)) - \n",
    "                              betas.reshape((1, -1))*_x.reshape((-1, 1))))\n",
    "    lppd_ni = np.log(comb(_n, _y)).reshape((-1, 1)) + _y.reshape((-1, 1))*np.log(theta) + \\\n",
    "        ((_n - _y)).reshape((-1, 1))*np.log(1 - theta)\n",
    "    lppds.append(logmeanexp(lppd_ni, axis=1).sum())\n",
    "    lls.append(logmeanexp(ll, axis=0))\n",
    "lls = np.array(lls)\n",
    "lppds = np.array(lppds)\n",
    "lppd_loo_cv = lls.sum()\n",
    "print 'lppd_cloo_cv:', lppd_loo_cv + (lppd - lppds.mean())\n",
    "print 'LOO-CV:', -2*(lppd_loo_cv + (lppd - lppds.mean()))"
   ]
  },
  {
   "cell_type": "markdown",
   "metadata": {},
   "source": [
    "## Exercise 7.2"
   ]
  },
  {
   "cell_type": "markdown",
   "metadata": {},
   "source": [
    "Too long to rewrite here. The main idea is to calculate the bias between two different order of doing expectation. One is $\\mathbb{E}_{y}\\mathbb{E}_{\\theta_{Bayes}}$, where $\\theta_{Bayes}$ depends on $y$, as the expected predictive value. The other is $\\mathbb{E}_{\\hat{\\theta}_{Bayes}}\\mathbb{E}_{y|\\theta_{Bayes}=\\hat{\\theta}_{Bayes}}$, which is the value before correction.\n"
   ]
  },
  {
   "cell_type": "markdown",
   "metadata": {},
   "source": [
    "## Exercise 7.3"
   ]
  },
  {
   "cell_type": "markdown",
   "metadata": {},
   "source": [
    "## Exercise 7.4"
   ]
  },
  {
   "cell_type": "markdown",
   "metadata": {
    "collapsed": true
   },
   "source": [
    "#### (a)\n",
    "The Bayes Factor\n",
    "$$\n",
    "\\begin{aligned}\n",
    "p(y|H_2) &= \\int p(y|\\theta_2)p(\\theta_2|H_2)\\;d\\theta_2 \\\\\n",
    "&= \\int \\left[\\prod_{j=1}^J\\mathcal{N}(y_j|\\theta, \\sigma_j^2)\\right]\\mathcal{N}(\\theta|0, A^2)\\;d\\theta \\\\\n",
    "&= \\frac{1}{\\sqrt{2\\pi}A} \\prod_{j=1}^J\\frac{1}{\\sqrt{2\\pi}\\sigma_j} \\left[\\frac{2\\pi}{\\sum_{j=1}^J\\frac{1}{\\sigma_j^2} + \\frac{1}{A^2}}\\right]^{1/2} \\exp\\left[\\frac{(\\sum_{j=1}^J \\frac{y_j}{\\sigma_j^2})^2}{2(\\sum_{j=1}^J\\frac{1}{\\sigma_j^2} + \\frac{1}{A^2})} - \\sum_{j=1}^J\\frac{y_j^2}{2\\sigma_j^2} \\right]\n",
    "\\end{aligned}\n",
    "$$\n",
    "$$\n",
    "\\begin{aligned}\n",
    "p(y|H_1) &= \\int p(y|\\theta_1)p(\\theta_1|H_1)\\;d\\theta_1 \\\\\n",
    "&= \\int \\prod_{j=1}^J\\left[\\mathcal{N}(y_j|\\theta_j, \\sigma_j^2)\\mathcal{N}(\\theta_j|0, A^2)\\right]\\;d\\theta_1\\dots\\theta_J \\\\\n",
    "&= \\left[\\frac{1}{\\sqrt{2\\pi}A}\\right]^J \\prod_{j=1}^J\\frac{1}{\\sqrt{2\\pi}\\sigma_j} \\prod_{j=1}^J\\left[\\frac{2\\pi}{\\frac{1}{\\sigma_j^2} + \\frac{1}{A^2}}\\right]^{1/2} \\prod_{j=1}^J \\exp\\left[\\frac{(\\frac{y_j}{\\sigma_j^2})^2}{2(\\frac{1}{\\sigma^2} + \\frac{1}{A^2})} - \\frac{y_j^2}{2\\sigma_j^2}\\right]\n",
    "\\end{aligned}\n",
    "$$\n",
    "$$\n",
    "\\begin{aligned}\n",
    "\\frac{p(y|H_2)}{p(y|H_1)} &= \\frac{\\left[\\frac{2\\pi}{\\sum_{j=1}^J\\frac{1}{\\sigma_j^2} + \\frac{1}{A^2}}\\right]^{1/2} \\exp\\left[\\frac{(\\sum_{j=1}^J \\frac{y_j}{\\sigma_j^2})^2}{2(\\sum_{j=1}^J\\frac{1}{\\sigma_j^2} + \\frac{1}{A^2})} \\right]}{\\left[\\frac{1}{\\sqrt{2\\pi}A}\\right]^{J-1} \\prod_{j=1}^J\\left[\\frac{2\\pi}{\\frac{1}{\\sigma_j^2} + \\frac{1}{A^2}}\\right]^{1/2} \\prod_{j=1}^J \\exp\\left[\\frac{(\\frac{y_j}{\\sigma_j^2})^2}{2(\\frac{1}{\\sigma_j^2} + \\frac{1}{A^2})} \\right]}\n",
    "\\end{aligned}\n",
    "$$"
   ]
  },
  {
   "cell_type": "markdown",
   "metadata": {},
   "source": [
    "#### (b)\n",
    "Let $A \\to \\infty$, then\n",
    "$$\n",
    "\\frac{p(y|H_2)}{p(y|H_1)} \\propto A^{J-1} \\to \\infty\n",
    "$$\n",
    "when $J > 1$"
   ]
  },
  {
   "cell_type": "markdown",
   "metadata": {},
   "source": [
    "#### (c)"
   ]
  },
  {
   "cell_type": "markdown",
   "metadata": {},
   "source": [
    "Let\n",
    "$$\n",
    "\\bar{y} = \\frac{1}{J}\\sum_{j=1}^J y_j\n",
    "$$\n",
    "$$\n",
    "s^2 = \\frac{1}{J-1}\\sum_{j=1}^J(y_j - \\bar{y})^2\n",
    "$$\n",
    "so\n",
    "$$\n",
    "\\sum_{j=1}y_j^2 = (s^2 + \\bar{y}^2)J - s^2\n",
    "$$\n",
    "And $\\sigma_1 = \\sigma_2 = \\dots = \\sigma_J$\n",
    "$$\n",
    "\\frac{p(y|H_2)}{p(y|H_1)} = \\frac{\\exp\\left[\\frac{(\\frac{J\\bar{y}}{\\sigma^2})^2}{2(\\frac{J}{\\sigma^2} + \\frac{1}{A^2})}\\right](1 + \\frac{A^2}{\\sigma^2})^{J/2}}{\\exp\\left[\\frac{\\frac{(s^2+\\bar{y}^2)J - s^2}{\\sigma^4}}{2(\\frac{1}{\\sigma^2} + \\frac{1}{A^2})}\\right](1 + \\frac{A^2}{\\sigma^2}J)^{1/2}}\n",
    "$$\n",
    "so when $J \\to \\infty$, the asymptotic behavior heavily depends on other parameters, that is, the scale of the 2 exps."
   ]
  }
 ],
 "metadata": {
  "kernelspec": {
   "display_name": "Python 2",
   "language": "python",
   "name": "python2"
  },
  "language_info": {
   "codemirror_mode": {
    "name": "ipython",
    "version": 2
   },
   "file_extension": ".py",
   "mimetype": "text/x-python",
   "name": "python",
   "nbconvert_exporter": "python",
   "pygments_lexer": "ipython2",
   "version": "2.7.11+"
  }
 },
 "nbformat": 4,
 "nbformat_minor": 0
}
