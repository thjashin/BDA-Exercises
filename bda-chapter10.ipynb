{
 "cells": [
  {
   "cell_type": "code",
   "execution_count": 1,
   "metadata": {
    "collapsed": true
   },
   "outputs": [],
   "source": [
    "import numpy as np\n",
    "import scipy\n",
    "from scipy import stats\n",
    "import matplotlib.pyplot as plt\n",
    "%matplotlib inline\n",
    "\n",
    "np.random.seed(1234)"
   ]
  },
  {
   "cell_type": "markdown",
   "metadata": {},
   "source": [
    "## Exercise 10.1"
   ]
  },
  {
   "cell_type": "markdown",
   "metadata": {},
   "source": [
    "##### (a)\n",
    "We first derive the asymptotic distribution of the $p$ sample quantiles ($X_{[np]}$) for the distribution $F_X(x)$ (cdf).\n",
    "Let\n",
    "$$\n",
    "Y_n(x) = \\frac{1}{n}\\sum_{i=1}^n I\\{X_i \\leq x\\} = \\frac{1}{n}\\sum_{i=1}^n Z_i\n",
    "$$\n",
    "It's easy to see\n",
    "$$\n",
    "\\mathbb{E}(Z_i) = F_X(x)\n",
    "$$\n",
    "$$\n",
    "\\mathrm{Var}(Z_i) = F_X(x)(1 - F_X(x))\n",
    "$$\n",
    "So according to The Central Limit Theorem\n",
    "$$\n",
    "\\sqrt{n}(Y_n(x) - F_X(x)) \\xrightarrow{d} \\mathcal{N}(0, F_X(x)(1 - F_X(x))\n",
    "$$\n",
    "Now consider transformation $g(t) = F^{-1}_X(t)$, the first derivative is defined as\n",
    "$$\n",
    "g'(t) = \\frac{d}{dt}F^{-1}_X(t) = \\frac{1}{F'_X(F^{-1}_X(t))} = \\frac{1}{f_X(F^{-1}_X(t))}\n",
    "$$\n",
    "Apply Delta method, we get\n",
    "$$\n",
    "\\sqrt{n}(F^{-1}_X(Y_n(x)) - F^{-1}_X(F_X(x))) \\xrightarrow{d} \\mathcal{N}(0, \\frac{F_X(x)(1 - F_X(x)}{f_X(F^{-1}_X(F_X(x)))^2})\n",
    "$$\n",
    "writing $p = F_X(x)$, that is\n",
    "$$\n",
    "\\sqrt{n}(F^{-1}_X(Y_n(x)) - x)) \\xrightarrow{d} \\mathcal{N}(0, \\frac{p(1 - p)}{f_X(x)^2})\n",
    "$$\n",
    "We observe that\n",
    "$$\n",
    "|X_{[np]} - F_X^{-1}(Y_n(x))| \\xrightarrow{a.s} 0\n",
    "$$\n",
    "So it follows that\n",
    "$$\n",
    "\\sqrt{n}(X_{[np]} - x) \\xrightarrow{d} \\mathcal{N}(0, \\frac{p(1 - p)}{f_X(x)^2})\n",
    "$$\n",
    "In this example\n",
    "$$\n",
    "\\mathrm{sd}(\\Theta_{[np]}) = \\sqrt{\\frac{p(1 - p)}{nf_{\\Theta}(\\theta_{[p]})^2}}\n",
    "$$\n",
    "$$\n",
    "\\mathrm{sd}(\\theta|y) = \\sigma\n",
    "$$\n",
    "Let\n",
    "$$\n",
    "\\mathrm{sd}(\\Theta_{[np]}) = 0.1\\mathrm{sd}(\\theta|y)\n",
    "$$\n",
    "The number of simulation needed is\n",
    "$$\n",
    "n = \\frac{p(1 - p)}{(0.1\\sigma f_{\\Theta}(\\theta_{[p]}))^2}\n",
    "$$\n",
    "We calculate them below:"
   ]
  },
  {
   "cell_type": "code",
   "execution_count": 2,
   "metadata": {
    "collapsed": false
   },
   "outputs": [
    {
     "name": "stdout",
     "output_type": "stream",
     "text": [
      "[-1.95996398  1.95996398]\n",
      "The number of simulation needed: 713.590173601\n"
     ]
    }
   ],
   "source": [
    "true_quantile = scipy.stats.norm.ppf([0.025, 0.975], 0, 1)\n",
    "print true_quantile\n",
    "print \"The number of simulation needed:\", (\n",
    "    0.025 * 0.975) / (stats.norm.pdf(true_quantile[0]) * 0.1)**2"
   ]
  },
  {
   "cell_type": "markdown",
   "metadata": {},
   "source": [
    "##### (b)\n",
    "We run 1000 times to calculate the standard deviation of using 714 simulations. We can see it's around 0.1."
   ]
  },
  {
   "cell_type": "code",
   "execution_count": 3,
   "metadata": {
    "collapsed": false
   },
   "outputs": [
    {
     "name": "stdout",
     "output_type": "stream",
     "text": [
      "The standard deviation of 714 simulations: 0.0980485196355\n"
     ]
    }
   ],
   "source": [
    "n = 714\n",
    "xs = []\n",
    "for i in xrange(1000):\n",
    "    samples = np.random.normal(loc=0.0, scale=1.0, size=n)\n",
    "    samples.sort()\n",
    "    x = samples[int(n*0.025)]\n",
    "    xs.append(x)\n",
    "xs = np.array(xs)\n",
    "sd = np.sum((xs - true_quantile[0])**2 / 1000.0)**0.5\n",
    "print 'The standard deviation of %d simulations: %s' % (n, sd)"
   ]
  },
  {
   "cell_type": "markdown",
   "metadata": {},
   "source": [
    "## Exercise 10.3"
   ]
  },
  {
   "cell_type": "markdown",
   "metadata": {},
   "source": [
    "##### (a)\n",
    "$$\n",
    "p(p|y) \\propto p(p)p(y|p) = \\mathrm{Beta}(p|\\alpha, \\beta)\\cdot B(n,p) \\propto \\mathrm{Beta}(\\alpha+y,\\beta+n-y)\n",
    "$$\n",
    "So \n",
    "$$p(p_1|y_1) = \\mathrm{Beta}(\\alpha+6, \\beta+4)$$\n",
    "$$p(p_2|y_2) = \\mathrm{Beta}(\\alpha+10, \\beta+10)$$"
   ]
  },
  {
   "cell_type": "code",
   "execution_count": 4,
   "metadata": {
    "collapsed": false
   },
   "outputs": [
    {
     "name": "stdout",
     "output_type": "stream",
     "text": [
      "95% posterior interval: [-0.24427632533487498, 0.40859385483599153]\n",
      "p(p1>p2): 0.679\n"
     ]
    }
   ],
   "source": [
    "def exercise_10_3a(alpha, beta, n_samples=1000):\n",
    "    p1_samples = np.random.beta(alpha + 6, beta + 4, n_samples)\n",
    "    p2_samples = np.random.beta(alpha + 10, beta + 10, n_samples)\n",
    "    sub_samples = p1_samples - p2_samples\n",
    "    return sub_samples\n",
    "samples = exercise_10_3a(1., 1., 1000)\n",
    "samples.sort()\n",
    "n = samples.shape[0]\n",
    "print '95% posterior interval:', [samples[int(n*0.025)],\n",
    "                                  samples[int(n*0.975)]]\n",
    "print 'p(p1>p2):', np.sum(samples > 0)*1.0 / n"
   ]
  },
  {
   "cell_type": "markdown",
   "metadata": {},
   "source": [
    "##### (b)\n",
    "$$\n",
    "p(p_1 > p_2|y_1,y_2) = \\int_0^1\\int_0^{p_1}\\mathrm{Beta}(p_1|\\alpha + 6, \\beta + 4)\\mathrm{Beta}(p_2|\\alpha + 10, \\beta + 10)dp_2dp_1\n",
    "$$"
   ]
  },
  {
   "cell_type": "code",
   "execution_count": 5,
   "metadata": {
    "collapsed": true
   },
   "outputs": [],
   "source": [
    "from scipy import integrate"
   ]
  },
  {
   "cell_type": "code",
   "execution_count": 6,
   "metadata": {
    "collapsed": false
   },
   "outputs": [
    {
     "data": {
      "text/plain": [
       "(0.6863834211926296, 2.3662489068848602e-11)"
      ]
     },
     "execution_count": 6,
     "metadata": {},
     "output_type": "execute_result"
    }
   ],
   "source": [
    "def exercise_10_3b(alpha, beta):\n",
    "    beta_pdf = stats.beta.pdf\n",
    "    return integrate.dblquad(lambda p2, p1: beta_pdf(\n",
    "            p1, alpha + 6, beta + 4)*beta_pdf(\n",
    "            p2, alpha+10, beta+10), 0., 1.,\n",
    "            lambda p1: 0, lambda p1: p1)\n",
    "exercise_10_3b(1., 1.)"
   ]
  },
  {
   "cell_type": "markdown",
   "metadata": {},
   "source": [
    "## Exercise 10.5"
   ]
  },
  {
   "cell_type": "markdown",
   "metadata": {},
   "source": [
    "##### (a)"
   ]
  },
  {
   "cell_type": "code",
   "execution_count": 7,
   "metadata": {
    "collapsed": false
   },
   "outputs": [
    {
     "name": "stdout",
     "output_type": "stream",
     "text": [
      "alpha: 2.70554384781\n",
      "beta: -0.398335121501\n"
     ]
    }
   ],
   "source": [
    "alpha = np.random.standard_t(4)*2\n",
    "beta = np.random.standard_t(4)\n",
    "print 'alpha:', alpha\n",
    "print 'beta:', beta"
   ]
  },
  {
   "cell_type": "code",
   "execution_count": 8,
   "metadata": {
    "collapsed": false
   },
   "outputs": [
    {
     "name": "stdout",
     "output_type": "stream",
     "text": [
      "x: [ 0.85642779  0.36865708  0.78171198  0.01739338  0.42647721  0.81787453\n",
      "  0.35421041  0.19861038  0.90019844  0.16557187]\n",
      "theta: [ 0.91407192  0.92815547  0.91638093  0.9369449   0.92660442  0.91527049\n",
      "  0.92853826  0.93254334  0.91269254  0.93336652]\n"
     ]
    }
   ],
   "source": [
    "J = 10\n",
    "x = np.random.uniform(0, 1, J)\n",
    "theta = 1./(1. + np.exp(-alpha - beta*x))\n",
    "print 'x:', x\n",
    "print 'theta:', theta"
   ]
  },
  {
   "cell_type": "code",
   "execution_count": 9,
   "metadata": {
    "collapsed": false
   },
   "outputs": [],
   "source": [
    "from scipy.special import expm1\n",
    "from scipy.stats import rv_discrete, poisson, nbinom\n",
    "\n",
    "# Zero-truncated Poisson\n",
    "class ztpoisson_gen(rv_discrete):\n",
    "\n",
    "    # Simulate using inverse cdf\n",
    "    def _rvs(self, mu):\n",
    "        return poisson.ppf(np.random.uniform(\n",
    "                low=poisson.pmf(0, mu), size=self._size), mu)\n",
    " \n",
    "    def _pmf(self, k, mu):\n",
    "        return -poisson.pmf(k, mu) / expm1(-mu)\n",
    " \n",
    "    def _cdf(self, x, mu):\n",
    "        k = np.floor(x)\n",
    "        if k == 0:\n",
    "            return 0.0\n",
    "        else:\n",
    "            return (poisson.cdf(k, mu) - poisson.pmf(\n",
    "                    0, mu)) / poisson.sf(0, mu) \n",
    "\n",
    "    def _ppf(self, q, mu):\n",
    "        return poisson.ppf(poisson.sf(0, mu) * q + \\\n",
    "                           poisson.pmf(0, mu), mu)\n",
    "\n",
    "    def _stats(self, mu):\n",
    "        mean = mu * np.exp(mu) / expm1(mu)\n",
    "        var = mean * (1.0 - mu / expm1(mu))\n",
    "        return mean, var\n",
    "\n",
    "ztpoisson = ztpoisson_gen(name=\"ztpoisson\",\n",
    "                          longname='Zero-truncated Poisson')"
   ]
  },
  {
   "cell_type": "code",
   "execution_count": 10,
   "metadata": {
    "collapsed": false
   },
   "outputs": [
    {
     "name": "stdout",
     "output_type": "stream",
     "text": [
      "n: [6 6 4 3 6 4 3 3 2 5]\n",
      "y: [6 6 4 3 5 4 3 3 2 5]\n"
     ]
    }
   ],
   "source": [
    "n = ztpoisson.rvs(mu=5, size=J)\n",
    "print 'n:', n\n",
    "y = np.array(map(lambda x: np.random.binomial(*x), zip(n, theta)))\n",
    "print 'y:', y"
   ]
  },
  {
   "cell_type": "markdown",
   "metadata": {},
   "source": [
    "##### (b)\n",
    "The posterior of $\\alpha, \\beta$ is\n",
    "$$\n",
    "p(\\alpha, \\beta|n_{1:J}, x_{1:J}, y_{1:J}) = \\frac{1}{Z}p(\\alpha)p(\\beta)\\prod_{j=1}^J p(n_j)p(x_j)p(y_j|n_j,x_j,\\alpha,\\beta)\n",
    "$$\n",
    "Use $p(\\alpha)p(\\beta)\\prod_{j=1}^Jp(n_j)p(x_j)$ as the envelope function:\n",
    "$$\n",
    "\\frac{p(\\alpha, \\beta|n_{1:J}, x_{1:J}, y_{1:J})}{p(\\alpha)p(\\beta)\\prod_{j=1}^Jp(n_j)p(x_j)} = \\frac{1}{Z}\\prod_{j=1}^Jp(y_j|n_j,x_j,\\alpha,\\beta) \\leq \\frac{1}{Z} = M\n",
    "$$\n",
    "So the acceptance rate is\n",
    "$$\n",
    "\\frac{p(\\alpha, \\beta|n_{1:J}, x_{1:J}, y_{1:J})}{Mp(\\alpha)p(\\beta)\\prod_{j=1}^Jp(n_j)p(x_j)} = \\prod_{j=1}^J p(y_j|n_j,x_j,\\alpha,\\beta) = \\prod_{j=1}^J {n_j \\choose y_j}\\frac{\\exp\\{-(\\alpha + \\beta x_j)(n_j - y_j)\\}}{[1 + \\exp\\{-(\\alpha + \\beta x_j)\\}]^{n_j}}\n",
    "$$"
   ]
  },
  {
   "cell_type": "code",
   "execution_count": 11,
   "metadata": {
    "collapsed": false
   },
   "outputs": [],
   "source": [
    "from scipy.misc import comb"
   ]
  },
  {
   "cell_type": "code",
   "execution_count": 12,
   "metadata": {
    "collapsed": false
   },
   "outputs": [
    {
     "name": "stdout",
     "output_type": "stream",
     "text": [
      "average acceptance rate: 0.0918166667709\n",
      "posterior mode of alpha: 3.39328423972\n",
      "posterior mode of beta: 0.486665838107\n"
     ]
    }
   ],
   "source": [
    "samples = 20000\n",
    "alpha = np.random.standard_t(4, size=(1, samples))*2\n",
    "beta = np.random.standard_t(4, size=(1, samples))\n",
    "n = n.reshape(-1, 1)\n",
    "y = y.reshape(-1, 1)\n",
    "x = x.reshape(-1, 1)\n",
    "theta = 1./(1. + np.exp(-alpha - beta*x))\n",
    "n_choose_y = comb(n, y)\n",
    "acc_rate = np.prod(n_choose_y * theta**y * (1. - theta)**(n-y), axis=0)\n",
    "acc_rate /= acc_rate.max()\n",
    "print 'average acceptance rate:', acc_rate.mean()\n",
    "unif = np.random.uniform(0, 1, size=samples)\n",
    "acc = (acc_rate >= unif)\n",
    "idx = np.nonzero(acc)[0]\n",
    "alpha_post = np.sort(alpha.squeeze()[idx][:1000])\n",
    "beta_post = np.sort(beta.squeeze()[idx][:1000])\n",
    "print 'posterior mode of alpha:', alpha_post.mean()\n",
    "print 'posterior mode of beta:', beta_post.mean()"
   ]
  },
  {
   "cell_type": "code",
   "execution_count": 13,
   "metadata": {
    "collapsed": false
   },
   "outputs": [
    {
     "data": {
      "image/png": "[encoded data removed]",
      "text/plain": [
       "<matplotlib.figure.Figure at 0x7f5e22337f50>"
      ]
     },
     "metadata": {},
     "output_type": "display_data"
    }
   ],
   "source": [
    "fig = plt.figure()\n",
    "ax1 = fig.add_subplot(1, 2, 1)\n",
    "ax1.hist(alpha_post, bins=20)\n",
    "\n",
    "ax1.set_xlabel(r'$\\alpha$')\n",
    "ax1.set_ylabel('samples')\n",
    "ax1.set_title(r'$p(\\alpha|y, n, x)$')\n",
    "ax1.grid(True)\n",
    "\n",
    "ax2 = fig.add_subplot(1, 2, 2)\n",
    "ax2.hist(beta_post, bins=20, color='green')\n",
    "\n",
    "ax2.set_xlabel(r'$\\beta$')\n",
    "ax2.set_title(r'$p(\\beta|y, n, x)$')\n",
    "ax2.grid(True)"
   ]
  },
  {
   "cell_type": "code",
   "execution_count": 14,
   "metadata": {
    "collapsed": false
   },
   "outputs": [
    {
     "data": {
      "image/png": "[encoded data removed]",
      "text/plain": [
       "<matplotlib.figure.Figure at 0x7f5e21e9a610>"
      ]
     },
     "metadata": {},
     "output_type": "display_data"
    }
   ],
   "source": [
    "_ = plt.hist2d(alpha_post, beta_post, bins=20)[-1]"
   ]
  },
  {
   "cell_type": "markdown",
   "metadata": {},
   "source": [
    "##### (c)\n",
    "Let $\\gamma_i = (\\alpha_i, \\beta_i)$, then\n",
    "$$\n",
    "\\tilde{\\Sigma} = \\frac{1}{n}\\sum_{i=1}^n(\\gamma_i - \\hat{\\gamma})(\\gamma_i - \\hat{\\gamma})^T\n",
    "$$\n",
    "So the normal approximation to the posterior is $\\mathcal{N}\\left({\\hat{\\alpha} \\choose \\hat{\\beta}}, \\Sigma \\right)$"
   ]
  },
  {
   "cell_type": "code",
   "execution_count": 15,
   "metadata": {
    "collapsed": false
   },
   "outputs": [
    {
     "name": "stdout",
     "output_type": "stream",
     "text": [
      "posterior mode:\n",
      "(3.3932842397232745, 0.48666583810742226)\n",
      "covariance matrix:\n",
      "[[ 1.24790664  1.34180049]\n",
      " [ 1.34180049  1.45445565]]\n"
     ]
    }
   ],
   "source": [
    "gamma = np.vstack((alpha_post, beta_post))\n",
    "sigma = np.cov(gamma)\n",
    "a_mode, b_mode = alpha_post.mean(), beta_post.mean()\n",
    "print 'posterior mode:'\n",
    "print (a_mode, b_mode)\n",
    "print 'covariance matrix:'\n",
    "print sigma"
   ]
  },
  {
   "cell_type": "code",
   "execution_count": 16,
   "metadata": {
    "collapsed": false
   },
   "outputs": [
    {
     "data": {
      "image/png": "[encoded data removed]",
      "text/plain": [
       "<matplotlib.figure.Figure at 0x7f5e1fadc250>"
      ]
     },
     "metadata": {},
     "output_type": "display_data"
    }
   ],
   "source": [
    "ax = plt.axes()\n",
    "ax.hist2d(alpha_post, beta_post, bins=20)[-1]\n",
    "# Draw the approximate normal distribution\n",
    "def plot_isocontours(ax, func, xlimits=[1, 6], ylimits=[-4, 8],\n",
    "                     numticks=1000):\n",
    "    x = np.linspace(*xlimits, num=numticks)\n",
    "    y = np.linspace(*ylimits, num=numticks)\n",
    "    X, Y = np.meshgrid(x, y)\n",
    "    zs = func(np.concatenate([np.atleast_2d(X.ravel()),\n",
    "                              np.atleast_2d(Y.ravel())]).T)\n",
    "    Z = zs.reshape(X.shape)\n",
    "    plt.contour(X, Y, Z)\n",
    "approx_norm = lambda x: stats.multivariate_normal.pdf(\n",
    "    x, [a_mode, b_mode], sigma)\n",
    "plot_isocontours(ax, approx_norm)"
   ]
  },
  {
   "cell_type": "markdown",
   "metadata": {},
   "source": [
    "##### (d)\n",
    "$$\n",
    "\\mathbb{E}(\\alpha, \\beta|y, x, n) = \\int \\frac{(\\alpha, \\beta)\\cdot p(\\alpha, \\beta|y, x, n)}{q(\\alpha, \\beta)}q(\\alpha, \\beta)d\\alpha d\\beta = \\sum_{i=1}^k \\tilde{w}_i\\cdot(\\alpha_i, \\beta_i)\n",
    "$$\n",
    "$$\n",
    "w_i = \\frac{p(\\alpha_i)p(\\beta_i)\\prod_{j=1}^J p(y_j|n_j,x_j,\\alpha_i,\\beta_i)}{q(\\alpha_i, \\beta_i)}\n",
    "$$"
   ]
  },
  {
   "cell_type": "code",
   "execution_count": 17,
   "metadata": {
    "collapsed": false
   },
   "outputs": [
    {
     "name": "stdout",
     "output_type": "stream",
     "text": [
      "E(alpha|..) 3.6570168634\n",
      "E(beta|..) 0.397403816104\n"
     ]
    }
   ],
   "source": [
    "from statsmodels.sandbox.distributions.multivariate import \\\n",
    "    multivariate_t_rvs\n",
    "from scipy.special import gamma\n",
    "samples = multivariate_t_rvs([a_mode, b_mode], sigma, 4, 1000)\n",
    "def multivariate_t_pdf(x, mu, sigma, v):\n",
    "    d = np.array(mu).shape[0]\n",
    "    ret = 1./ np.linalg.det(sigma)**0.5 * 1. / np.sqrt(\n",
    "        (v*np.pi)**d) * gamma((v+d)/2.) / gamma(v/2.) * (\n",
    "        1. + ((x - mu).dot(np.linalg.inv(sigma))*(x - mu)).sum(\n",
    "        axis=1))**(-(v+d)/2)\n",
    "    return ret\n",
    "pdfs = multivariate_t_pdf(samples, [a_mode, b_mode], sigma, 4)\n",
    "\n",
    "alpha, beta = samples[:, 0], samples[:, 1]\n",
    "# (10, 1000)\n",
    "theta = 1./(1. + np.exp(\n",
    "        -alpha.reshape((1, -1)) - beta.reshape((1, -1))*x))\n",
    "n_choose_y = comb(n, y)\n",
    "p_alpha = stats.t.pdf(alpha/2., 4)\n",
    "p_beta = stats.t.pdf(beta, 4)\n",
    "p = p_alpha * p_beta * np.prod(\n",
    "    n_choose_y * theta**y * (1. - theta)**(n-y), axis=0)\n",
    "w = p/pdfs\n",
    "w_tilde = w/w.sum(axis=0)\n",
    "expect = (samples*w_tilde.reshape(-1, 1)).sum(axis=0)\n",
    "print 'E(alpha|..)', expect[0]\n",
    "print 'E(beta|..)', expect[1]"
   ]
  },
  {
   "cell_type": "markdown",
   "metadata": {},
   "source": [
    "##### (e)\n",
    "$$\n",
    "S_{eff} = \\frac{S\\bar{w}^2}{\\bar{w^2}} = \\frac{1}{\\sum_{s=1}^S \\tilde{w}^2}\n",
    "$$"
   ]
  },
  {
   "cell_type": "code",
   "execution_count": 18,
   "metadata": {
    "collapsed": false
   },
   "outputs": [
    {
     "name": "stdout",
     "output_type": "stream",
     "text": [
      "effective sample size: 4.95642038918\n"
     ]
    }
   ],
   "source": [
    "print 'effective sample size:', 1./np.sum(w_tilde**2)"
   ]
  },
  {
   "cell_type": "markdown",
   "metadata": {},
   "source": [
    "## Exercise 10.6"
   ]
  },
  {
   "cell_type": "markdown",
   "metadata": {},
   "source": [
    "##### (a)"
   ]
  },
  {
   "cell_type": "code",
   "execution_count": 19,
   "metadata": {
    "collapsed": false,
    "scrolled": true
   },
   "outputs": [
    {
     "data": {
      "image/png": "[encoded data removed]",
      "text/plain": [
       "<matplotlib.figure.Figure at 0x7f5e1fb5d150>"
      ]
     },
     "metadata": {},
     "output_type": "display_data"
    }
   ],
   "source": [
    "def exercise_10_6(S):\n",
    "    samples = np.random.standard_t(3, size=S)\n",
    "    w = stats.norm.pdf(samples) / stats.t.pdf(samples, 3)\n",
    "    w_tilde = w / w.sum()\n",
    "    return samples, w_tilde\n",
    "\n",
    "samples, w_tilde = exercise_10_6(100)\n",
    "log_w_tilde = np.log(w_tilde)\n",
    "_ = plt.hist(log_w_tilde, bins=20)"
   ]
  },
  {
   "cell_type": "markdown",
   "metadata": {},
   "source": [
    "##### (b)\n",
    "$$\n",
    "\\mathbb{E}(\\theta|y) = \\int \\frac{\\theta p(\\theta|y)}{q(\\theta)} d\\theta \\approx \\sum_{i=1}^S \\tilde{w}_i\\theta_i\n",
    "$$\n",
    "$$\n",
    "\\mathrm{var}(\\theta|y) = \\int \\frac{\\theta^2 p(\\theta|y)}{q(\\theta)} d\\theta - \\mathbb{E}(\\theta|y)^2 \\approx \\sum_{i=1}^S \\tilde{w}_i \\theta_i^2 - (\\sum_{i=1}^S \\tilde{w}_i\\theta_i)^2\n",
    "$$"
   ]
  },
  {
   "cell_type": "code",
   "execution_count": 20,
   "metadata": {
    "collapsed": false
   },
   "outputs": [
    {
     "name": "stdout",
     "output_type": "stream",
     "text": [
      "E(theta|y): 0.0672426957983\n",
      "var(theta|y): 1.11577513961\n"
     ]
    }
   ],
   "source": [
    "expect = (samples*w_tilde).sum()\n",
    "print 'E(theta|y):', expect\n",
    "var = (samples**2 * w_tilde).sum() - (expect**2).sum()\n",
    "print 'var(theta|y):', var"
   ]
  },
  {
   "cell_type": "markdown",
   "metadata": {},
   "source": [
    "##### (c)"
   ]
  },
  {
   "cell_type": "code",
   "execution_count": 21,
   "metadata": {
    "collapsed": false
   },
   "outputs": [
    {
     "name": "stdout",
     "output_type": "stream",
     "text": [
      "E(theta|y): -0.00385847408031\n",
      "var(theta|y): 1.00992339781\n"
     ]
    },
    {
     "data": {
      "image/png": "[encoded data removed]",
      "text/plain": [
       "<matplotlib.figure.Figure at 0x7f5e168e0cd0>"
      ]
     },
     "metadata": {},
     "output_type": "display_data"
    }
   ],
   "source": [
    "samples, w_tilde = exercise_10_6(10000)\n",
    "log_w_tilde = np.log(w_tilde + 1e-8)\n",
    "_ = plt.hist(log_w_tilde, bins=50)\n",
    "expect = (samples*w_tilde).sum()\n",
    "print 'E(theta|y):', expect\n",
    "var = (samples**2 * w_tilde).sum() - (expect**2).sum()\n",
    "print 'var(theta|y):', var"
   ]
  },
  {
   "cell_type": "markdown",
   "metadata": {},
   "source": [
    "##### (d)"
   ]
  },
  {
   "cell_type": "code",
   "execution_count": 22,
   "metadata": {
    "collapsed": false
   },
   "outputs": [
    {
     "name": "stdout",
     "output_type": "stream",
     "text": [
      "effective sample size: 9195.37339363\n"
     ]
    }
   ],
   "source": [
    "print 'effective sample size:', 1./np.sum(w_tilde**2)"
   ]
  },
  {
   "cell_type": "markdown",
   "metadata": {},
   "source": [
    "## Exercise 10.7"
   ]
  },
  {
   "cell_type": "code",
   "execution_count": 23,
   "metadata": {
    "collapsed": false
   },
   "outputs": [
    {
     "data": {
      "image/png": "[encoded data removed]",
      "text/plain": [
       "<matplotlib.figure.Figure at 0x7f5e16818b50>"
      ]
     },
     "metadata": {},
     "output_type": "display_data"
    }
   ],
   "source": [
    "def exercise_10_7(S):\n",
    "    samples = np.random.normal(size=S)\n",
    "    w = stats.t.pdf(samples, 3) / stats.norm.pdf(samples)\n",
    "    w_tilde = w / w.sum()\n",
    "    return samples, w_tilde\n",
    "\n",
    "samples, w_tilde = exercise_10_7(100)\n",
    "log_w_tilde = np.log(w_tilde)\n",
    "_ = plt.hist(log_w_tilde, bins=20)"
   ]
  },
  {
   "cell_type": "code",
   "execution_count": 24,
   "metadata": {
    "collapsed": false
   },
   "outputs": [
    {
     "name": "stdout",
     "output_type": "stream",
     "text": [
      "E(theta|y): 0.106943777759\n",
      "var(theta|y): 1.19331836025\n"
     ]
    }
   ],
   "source": [
    "expect = (samples*w_tilde).sum()\n",
    "print 'E(theta|y):', expect\n",
    "var = (samples**2 * w_tilde).sum() - (expect**2).sum()\n",
    "print 'var(theta|y):', var"
   ]
  },
  {
   "cell_type": "code",
   "execution_count": 25,
   "metadata": {
    "collapsed": false
   },
   "outputs": [
    {
     "name": "stdout",
     "output_type": "stream",
     "text": [
      "E(theta|y): -0.0432956969578\n",
      "var(theta|y): 1.6572257326\n"
     ]
    },
    {
     "data": {
      "image/png": "[encoded data removed]",
      "text/plain": [
       "<matplotlib.figure.Figure at 0x7f5e1fcf4490>"
      ]
     },
     "metadata": {},
     "output_type": "display_data"
    }
   ],
   "source": [
    "samples, w_tilde = exercise_10_7(10000)\n",
    "log_w_tilde = np.log(w_tilde)\n",
    "_ = plt.hist(log_w_tilde, bins=50)\n",
    "expect = (samples*w_tilde).sum()\n",
    "print 'E(theta|y):', expect\n",
    "var = (samples**2 * w_tilde).sum() - (expect**2).sum()\n",
    "print 'var(theta|y):', var"
   ]
  },
  {
   "cell_type": "code",
   "execution_count": 26,
   "metadata": {
    "collapsed": false
   },
   "outputs": [
    {
     "name": "stdout",
     "output_type": "stream",
     "text": [
      "effective sample size: 4830.64096352\n"
     ]
    }
   ],
   "source": [
    "print 'effective sample size:', 1./np.sum(w_tilde**2)"
   ]
  },
  {
   "cell_type": "markdown",
   "metadata": {},
   "source": [
    "The real value is 3. So the estimate is systematically too low. The reason is that $t_3$ has a much heavier tail than the normal proposal, so the tail probability, as well as the variance, are underestimated in this condition."
   ]
  }
 ],
 "metadata": {
  "kernelspec": {
   "display_name": "Python 2",
   "language": "python",
   "name": "python2"
  },
  "language_info": {
   "codemirror_mode": {
    "name": "ipython",
    "version": 2
   },
   "file_extension": ".py",
   "mimetype": "text/x-python",
   "name": "python",
   "nbconvert_exporter": "python",
   "pygments_lexer": "ipython2",
   "version": "2.7.11+"
  }
 },
 "nbformat": 4,
 "nbformat_minor": 0
}
